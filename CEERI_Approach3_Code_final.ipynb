{
  "nbformat": 4,
  "nbformat_minor": 0,
  "metadata": {
    "colab": {
      "name": "CEERI_Approach3_Code_final.ipynb",
      "provenance": [],
      "collapsed_sections": []
    },
    "kernelspec": {
      "name": "python3",
      "display_name": "Python 3"
    },
    "language_info": {
      "name": "python"
    }
  },
  "cells": [
    {
      "cell_type": "code",
      "metadata": {
        "id": "-SQTSOszNKh-"
      },
      "source": [
        "import numpy as np\n",
        "import pandas as pd\n",
        "import matplotlib.pyplot as plt\n",
        "import os, collections, csv\n",
        "from sklearn.model_selection import train_test_split\n",
        "from sklearn.neighbors import KNeighborsClassifier\n",
        "from sklearn.metrics import accuracy_score\n",
        "import seaborn as sns\n",
        "from sklearn.preprocessing import StandardScaler\n",
        "from collections import Counter\n",
        "from imblearn.combine import SMOTETomek\n",
        "from imblearn.under_sampling import NearMiss\n",
        "from sklearn.model_selection import train_test_split\n",
        "from sklearn.svm import SVC\n",
        "from sklearn.metrics import confusion_matrix, accuracy_score, plot_confusion_matrix, classification_report, f1_score, recall_score, precision_score\n",
        "from sklearn.model_selection import StratifiedKFold, cross_val_score\n",
        "from sklearn.neighbors import KNeighborsClassifier\n",
        "from xgboost import XGBClassifier\n",
        "from sklearn.ensemble import RandomForestClassifier\n",
        "from sklearn.naive_bayes import GaussianNB\n"
      ],
      "execution_count": 117,
      "outputs": []
    },
    {
      "cell_type": "code",
      "metadata": {
        "id": "PIrdUsduNR0J"
      },
      "source": [
        "data_path = 'PPG_FeatureSet_App3_'\n",
        "names = ['abarna ', 'achu ', 'ameen', 'arivu', 'arun5th', 'bhuvana', 'chandan', 'christopher', 'devipriya', 'dharwish', 'divya', 'gayathriP', 'hari9thjan_PPG', 'hemaM', 'hemaY', 'indu', 'jerina', 'kesavan', 'kirthika', 'krishnaraja', 'lakshmi7thmar_PPG', 'mani9th', 'muthuvommal', 'neethu', 'nikil', 'nitesh', 'padmanaban', 'priya', 'ramesh', 'sathish', 'sathvik', 'sharmili', 'shaumik', 'sivagami', 'sobhana', 'srideviKVSS', 'srideviv', 'sumon', 'surendra', 'suresh', 'tharun', 'thiru', 'usha', 'yakub']"
      ],
      "execution_count": 118,
      "outputs": []
    },
    {
      "cell_type": "code",
      "metadata": {
        "id": "lcYK6mEiNRxR"
      },
      "source": [
        "# This script concatenates the sheets (named 'ppg_#normal', 'ppg_#mild fatigue', 'ppg_#fatigue') of an Excel file into a single sheet. \n",
        "sheet_name = ['ppg_#normal', 'ppg_#mild fatigue', 'ppg_#fatigue']\n",
        "numberOfSheets = 3 #Modify this. \n",
        "for name in range(len(names)):\n",
        "    df = {k:[] for k in names}\n",
        "    f = data_path+names[name]+'.xls' #This is the path to the Excel file  \n",
        "    for i in range(0, numberOfSheets):\n",
        "        data = pd.read_excel(f, sheet_name= sheet_name[i], header=None) #Modify the sheetname argument based on how your sheets are named\n",
        "        df[names[name]].append(data)\n",
        "    final = data_path+'csv'+names[name]+'.csv' #Path to the file in which new sheet will be saved.\n",
        "    df[names[name]] = pd.concat(df[names[name]])\n",
        "    df[names[name]] = df[names[name]].iloc[:, 1:]\n",
        "    df[names[name]] = df[names[name]].dropna(how='all')\n",
        "    df[names[name]] = df[names[name]].drop_duplicates()\n",
        "    df[names[name]].to_csv(final)"
      ],
      "execution_count": 119,
      "outputs": []
    },
    {
      "cell_type": "code",
      "metadata": {
        "id": "frpFciucNRuJ"
      },
      "source": [
        "features = ['mHR', 'stdHR', 'cvHR', 'RMSSD', 'pNN20', 'pNN30', 'pNN40', 'pNN50', 'LFPower', 'HFPower', 'TPower', 'LHRatio', 'class']\n",
        "names = ['abarna ', 'achu ', 'ameen', 'arivu', 'arun5th', 'bhuvana', 'chandan', 'christopher', 'devipriya', 'dharwish', 'divya', 'gayathriP', 'hari9thjan_PPG', 'hemaM', 'hemaY', 'indu', 'jerina', 'kesavan', 'kirthika', 'krishnaraja', 'lakshmi7thmar_PPG', 'mani9th', 'muthuvommal', 'neethu', 'nikil', 'nitesh', 'padmanaban', 'priya', 'ramesh', 'sathish', 'sathvik', 'sharmili', 'shaumik', 'sivagami', 'sobhana', 'srideviKVSS', 'srideviv', 'sumon', 'surendra', 'suresh', 'tharun', 'thiru', 'usha', 'yakub']"
      ],
      "execution_count": 120,
      "outputs": []
    },
    {
      "cell_type": "code",
      "metadata": {
        "id": "ZWDXfQS0NRrB"
      },
      "source": [
        "df = {k:[] for k in names}\n",
        "for name in range(len(names)):\n",
        "    df[names[name]] = pd.read_csv(data_path+'csv'+names[name]+'.csv')\n",
        "    df[names[name]].pop('Unnamed: 0')\n",
        "    df[names[name]].columns = features\n",
        "    df[names[name]] = df[names[name]].iloc[1: , :]\n",
        "    df[names[name]] = df[names[name]].drop_duplicates()"
      ],
      "execution_count": 121,
      "outputs": []
    },
    {
      "cell_type": "code",
      "metadata": {
        "id": "lg5ymafVNRoI"
      },
      "source": [
        "for name in range(len(names)):\n",
        "    df[names[name]] = df[names[name]].drop(['pNN30', 'pNN50'], axis=1)"
      ],
      "execution_count": 122,
      "outputs": []
    },
    {
      "cell_type": "code",
      "metadata": {
        "id": "mAOJ_Yd3NRk-"
      },
      "source": [
        "scaler = StandardScaler()\n",
        "scaled_names = ['scaled_'+names[i] for i in range(len(names))]\n",
        "    \n",
        "scaled_df = {k:[] for k in scaled_names}"
      ],
      "execution_count": 123,
      "outputs": []
    },
    {
      "cell_type": "code",
      "metadata": {
        "id": "TLX7vplkNRh4"
      },
      "source": [
        "features_12 = ['mHR', 'stdHR', 'cvHR', 'RMSSD', 'pNN20', 'pNN30', 'pNN40', 'pNN50', 'LFPower', 'HFPower', 'TPower', 'LHRatio']"
      ],
      "execution_count": 124,
      "outputs": []
    },
    {
      "cell_type": "code",
      "metadata": {
        "colab": {
          "base_uri": "https://localhost:8080/",
          "height": 443
        },
        "id": "fQa1bLcDNuB8",
        "outputId": "48df71f6-f4d7-4cdf-cfa5-92f5e1ec9d14"
      },
      "source": [
        "for name in range(len(names)):\n",
        "    scaler.fit(df[names[name]].drop('class', axis = 1))\n",
        "    sc_transform = scaler.transform(df[names[name]].drop('class', axis = 1))\n",
        "    scaled_df[scaled_names[name]] = pd.DataFrame(sc_transform)\n",
        "scaled_df['scaled_achu ']\n",
        "#     scaled_df[scaled_names[name]] = pd.DataFrame(scaled_df[scaled_names[name]], index = features_12)\n",
        "extra_df = pd.concat(scaled_df)\n",
        "extra_df"
      ],
      "execution_count": 125,
      "outputs": [
        {
          "output_type": "execute_result",
          "data": {
            "text/html": [
              "<div>\n",
              "<style scoped>\n",
              "    .dataframe tbody tr th:only-of-type {\n",
              "        vertical-align: middle;\n",
              "    }\n",
              "\n",
              "    .dataframe tbody tr th {\n",
              "        vertical-align: top;\n",
              "    }\n",
              "\n",
              "    .dataframe thead th {\n",
              "        text-align: right;\n",
              "    }\n",
              "</style>\n",
              "<table border=\"1\" class=\"dataframe\">\n",
              "  <thead>\n",
              "    <tr style=\"text-align: right;\">\n",
              "      <th></th>\n",
              "      <th></th>\n",
              "      <th>0</th>\n",
              "      <th>1</th>\n",
              "      <th>2</th>\n",
              "      <th>3</th>\n",
              "      <th>4</th>\n",
              "      <th>5</th>\n",
              "      <th>6</th>\n",
              "      <th>7</th>\n",
              "      <th>8</th>\n",
              "      <th>9</th>\n",
              "    </tr>\n",
              "  </thead>\n",
              "  <tbody>\n",
              "    <tr>\n",
              "      <th rowspan=\"5\" valign=\"top\">scaled_abarna</th>\n",
              "      <th>0</th>\n",
              "      <td>1.138877</td>\n",
              "      <td>0.477659</td>\n",
              "      <td>-0.448928</td>\n",
              "      <td>-0.302891</td>\n",
              "      <td>-0.939466</td>\n",
              "      <td>-1.368815</td>\n",
              "      <td>0.453543</td>\n",
              "      <td>0.250961</td>\n",
              "      <td>0.392913</td>\n",
              "      <td>0.428888</td>\n",
              "    </tr>\n",
              "    <tr>\n",
              "      <th>1</th>\n",
              "      <td>0.775471</td>\n",
              "      <td>1.130361</td>\n",
              "      <td>-1.017978</td>\n",
              "      <td>0.781743</td>\n",
              "      <td>-0.636726</td>\n",
              "      <td>-0.690049</td>\n",
              "      <td>0.257903</td>\n",
              "      <td>0.502543</td>\n",
              "      <td>0.347069</td>\n",
              "      <td>-0.143569</td>\n",
              "    </tr>\n",
              "    <tr>\n",
              "      <th>2</th>\n",
              "      <td>0.754425</td>\n",
              "      <td>1.151302</td>\n",
              "      <td>-1.035578</td>\n",
              "      <td>0.811438</td>\n",
              "      <td>-0.049264</td>\n",
              "      <td>-0.423508</td>\n",
              "      <td>0.033130</td>\n",
              "      <td>0.676116</td>\n",
              "      <td>0.270903</td>\n",
              "      <td>-0.568641</td>\n",
              "    </tr>\n",
              "    <tr>\n",
              "      <th>3</th>\n",
              "      <td>0.932362</td>\n",
              "      <td>1.176980</td>\n",
              "      <td>-1.031178</td>\n",
              "      <td>0.985187</td>\n",
              "      <td>-0.632068</td>\n",
              "      <td>-0.338963</td>\n",
              "      <td>-0.100657</td>\n",
              "      <td>0.833824</td>\n",
              "      <td>0.257570</td>\n",
              "      <td>-0.805255</td>\n",
              "    </tr>\n",
              "    <tr>\n",
              "      <th>4</th>\n",
              "      <td>1.227884</td>\n",
              "      <td>0.844070</td>\n",
              "      <td>-0.742253</td>\n",
              "      <td>0.724206</td>\n",
              "      <td>-0.798291</td>\n",
              "      <td>-0.547549</td>\n",
              "      <td>-0.188238</td>\n",
              "      <td>0.837452</td>\n",
              "      <td>0.232609</td>\n",
              "      <td>-0.914004</td>\n",
              "    </tr>\n",
              "    <tr>\n",
              "      <th>...</th>\n",
              "      <th>...</th>\n",
              "      <td>...</td>\n",
              "      <td>...</td>\n",
              "      <td>...</td>\n",
              "      <td>...</td>\n",
              "      <td>...</td>\n",
              "      <td>...</td>\n",
              "      <td>...</td>\n",
              "      <td>...</td>\n",
              "      <td>...</td>\n",
              "      <td>...</td>\n",
              "    </tr>\n",
              "    <tr>\n",
              "      <th rowspan=\"5\" valign=\"top\">scaled_yakub</th>\n",
              "      <th>46</th>\n",
              "      <td>0.818408</td>\n",
              "      <td>-1.356047</td>\n",
              "      <td>2.154705</td>\n",
              "      <td>-1.293709</td>\n",
              "      <td>-0.826408</td>\n",
              "      <td>-1.117921</td>\n",
              "      <td>-0.418485</td>\n",
              "      <td>-0.845048</td>\n",
              "      <td>-0.476085</td>\n",
              "      <td>-0.028823</td>\n",
              "    </tr>\n",
              "    <tr>\n",
              "      <th>47</th>\n",
              "      <td>0.871025</td>\n",
              "      <td>-1.302458</td>\n",
              "      <td>1.914589</td>\n",
              "      <td>-1.325627</td>\n",
              "      <td>-1.078246</td>\n",
              "      <td>-1.117921</td>\n",
              "      <td>-0.406769</td>\n",
              "      <td>-0.790544</td>\n",
              "      <td>-0.459362</td>\n",
              "      <td>-0.189385</td>\n",
              "    </tr>\n",
              "    <tr>\n",
              "      <th>48</th>\n",
              "      <td>0.800480</td>\n",
              "      <td>-1.418599</td>\n",
              "      <td>2.480267</td>\n",
              "      <td>-1.372760</td>\n",
              "      <td>-1.074265</td>\n",
              "      <td>-1.226405</td>\n",
              "      <td>-0.393071</td>\n",
              "      <td>-0.730027</td>\n",
              "      <td>-0.440194</td>\n",
              "      <td>-0.224757</td>\n",
              "    </tr>\n",
              "    <tr>\n",
              "      <th>49</th>\n",
              "      <td>0.343258</td>\n",
              "      <td>-1.166950</td>\n",
              "      <td>1.373129</td>\n",
              "      <td>-1.328973</td>\n",
              "      <td>-0.947848</td>\n",
              "      <td>-1.226405</td>\n",
              "      <td>-0.379036</td>\n",
              "      <td>-0.618542</td>\n",
              "      <td>-0.415207</td>\n",
              "      <td>-0.406380</td>\n",
              "    </tr>\n",
              "    <tr>\n",
              "      <th>50</th>\n",
              "      <td>0.767493</td>\n",
              "      <td>-1.378369</td>\n",
              "      <td>2.261398</td>\n",
              "      <td>-1.357836</td>\n",
              "      <td>-1.011056</td>\n",
              "      <td>-1.226405</td>\n",
              "      <td>-0.372173</td>\n",
              "      <td>-0.572133</td>\n",
              "      <td>-0.404150</td>\n",
              "      <td>-0.432420</td>\n",
              "    </tr>\n",
              "  </tbody>\n",
              "</table>\n",
              "<p>2051 rows × 10 columns</p>\n",
              "</div>"
            ],
            "text/plain": [
              "                          0         1         2  ...         7         8         9\n",
              "scaled_abarna  0   1.138877  0.477659 -0.448928  ...  0.250961  0.392913  0.428888\n",
              "               1   0.775471  1.130361 -1.017978  ...  0.502543  0.347069 -0.143569\n",
              "               2   0.754425  1.151302 -1.035578  ...  0.676116  0.270903 -0.568641\n",
              "               3   0.932362  1.176980 -1.031178  ...  0.833824  0.257570 -0.805255\n",
              "               4   1.227884  0.844070 -0.742253  ...  0.837452  0.232609 -0.914004\n",
              "...                     ...       ...       ...  ...       ...       ...       ...\n",
              "scaled_yakub   46  0.818408 -1.356047  2.154705  ... -0.845048 -0.476085 -0.028823\n",
              "               47  0.871025 -1.302458  1.914589  ... -0.790544 -0.459362 -0.189385\n",
              "               48  0.800480 -1.418599  2.480267  ... -0.730027 -0.440194 -0.224757\n",
              "               49  0.343258 -1.166950  1.373129  ... -0.618542 -0.415207 -0.406380\n",
              "               50  0.767493 -1.378369  2.261398  ... -0.572133 -0.404150 -0.432420\n",
              "\n",
              "[2051 rows x 10 columns]"
            ]
          },
          "metadata": {},
          "execution_count": 125
        }
      ]
    },
    {
      "cell_type": "code",
      "metadata": {
        "colab": {
          "base_uri": "https://localhost:8080/",
          "height": 1000
        },
        "id": "aYjNdjYFNt-3",
        "outputId": "a8020b6a-bf54-4caf-e3db-66ee92991137"
      },
      "source": [
        "for name in range(len(names)):\n",
        "  scaled_df[scaled_names[name]].index = pd.RangeIndex(start=1, stop=len(scaled_df[scaled_names[name]])+1, step=1)\n",
        "  scaled_df[scaled_names[name]]['class'] = df[names[name]]['class']\n",
        "scaled_df['scaled_bhuvana']\n"
      ],
      "execution_count": 126,
      "outputs": [
        {
          "output_type": "execute_result",
          "data": {
            "text/html": [
              "<div>\n",
              "<style scoped>\n",
              "    .dataframe tbody tr th:only-of-type {\n",
              "        vertical-align: middle;\n",
              "    }\n",
              "\n",
              "    .dataframe tbody tr th {\n",
              "        vertical-align: top;\n",
              "    }\n",
              "\n",
              "    .dataframe thead th {\n",
              "        text-align: right;\n",
              "    }\n",
              "</style>\n",
              "<table border=\"1\" class=\"dataframe\">\n",
              "  <thead>\n",
              "    <tr style=\"text-align: right;\">\n",
              "      <th></th>\n",
              "      <th>0</th>\n",
              "      <th>1</th>\n",
              "      <th>2</th>\n",
              "      <th>3</th>\n",
              "      <th>4</th>\n",
              "      <th>5</th>\n",
              "      <th>6</th>\n",
              "      <th>7</th>\n",
              "      <th>8</th>\n",
              "      <th>9</th>\n",
              "      <th>class</th>\n",
              "    </tr>\n",
              "  </thead>\n",
              "  <tbody>\n",
              "    <tr>\n",
              "      <th>1</th>\n",
              "      <td>-0.073838</td>\n",
              "      <td>0.058313</td>\n",
              "      <td>-0.374228</td>\n",
              "      <td>0.378139</td>\n",
              "      <td>-0.188961</td>\n",
              "      <td>-0.127527</td>\n",
              "      <td>-0.696136</td>\n",
              "      <td>-0.842731</td>\n",
              "      <td>-0.734454</td>\n",
              "      <td>-0.932118</td>\n",
              "      <td>normal</td>\n",
              "    </tr>\n",
              "    <tr>\n",
              "      <th>2</th>\n",
              "      <td>-0.269013</td>\n",
              "      <td>0.296082</td>\n",
              "      <td>-0.579584</td>\n",
              "      <td>0.230102</td>\n",
              "      <td>-0.113676</td>\n",
              "      <td>-0.115539</td>\n",
              "      <td>-0.678187</td>\n",
              "      <td>-0.789595</td>\n",
              "      <td>-0.707237</td>\n",
              "      <td>-0.867278</td>\n",
              "      <td>normal</td>\n",
              "    </tr>\n",
              "    <tr>\n",
              "      <th>3</th>\n",
              "      <td>-0.345475</td>\n",
              "      <td>0.459775</td>\n",
              "      <td>-0.698175</td>\n",
              "      <td>0.367458</td>\n",
              "      <td>0.256885</td>\n",
              "      <td>0.316150</td>\n",
              "      <td>-0.591243</td>\n",
              "      <td>-0.556472</td>\n",
              "      <td>-0.593212</td>\n",
              "      <td>-0.714905</td>\n",
              "      <td>normal</td>\n",
              "    </tr>\n",
              "    <tr>\n",
              "      <th>4</th>\n",
              "      <td>-0.410441</td>\n",
              "      <td>0.614979</td>\n",
              "      <td>-0.800351</td>\n",
              "      <td>0.826466</td>\n",
              "      <td>0.531895</td>\n",
              "      <td>0.650566</td>\n",
              "      <td>-0.430162</td>\n",
              "      <td>-0.103538</td>\n",
              "      <td>-0.382010</td>\n",
              "      <td>-0.649347</td>\n",
              "      <td>normal</td>\n",
              "    </tr>\n",
              "    <tr>\n",
              "      <th>5</th>\n",
              "      <td>-0.353776</td>\n",
              "      <td>0.538325</td>\n",
              "      <td>-0.748425</td>\n",
              "      <td>0.485053</td>\n",
              "      <td>0.589867</td>\n",
              "      <td>0.674347</td>\n",
              "      <td>-0.145929</td>\n",
              "      <td>0.598698</td>\n",
              "      <td>-0.032750</td>\n",
              "      <td>-0.577919</td>\n",
              "      <td>normal</td>\n",
              "    </tr>\n",
              "    <tr>\n",
              "      <th>6</th>\n",
              "      <td>-1.260512</td>\n",
              "      <td>1.782713</td>\n",
              "      <td>-1.383590</td>\n",
              "      <td>1.655991</td>\n",
              "      <td>0.397986</td>\n",
              "      <td>0.773182</td>\n",
              "      <td>1.502231</td>\n",
              "      <td>2.366606</td>\n",
              "      <td>2.022443</td>\n",
              "      <td>0.006419</td>\n",
              "      <td>normal</td>\n",
              "    </tr>\n",
              "    <tr>\n",
              "      <th>7</th>\n",
              "      <td>-0.996974</td>\n",
              "      <td>1.532838</td>\n",
              "      <td>-1.277394</td>\n",
              "      <td>1.486893</td>\n",
              "      <td>0.095771</td>\n",
              "      <td>0.452810</td>\n",
              "      <td>1.817211</td>\n",
              "      <td>2.193420</td>\n",
              "      <td>2.131426</td>\n",
              "      <td>0.264928</td>\n",
              "      <td>normal</td>\n",
              "    </tr>\n",
              "    <tr>\n",
              "      <th>8</th>\n",
              "      <td>-1.126002</td>\n",
              "      <td>1.559409</td>\n",
              "      <td>-1.297159</td>\n",
              "      <td>1.519659</td>\n",
              "      <td>0.181388</td>\n",
              "      <td>0.390918</td>\n",
              "      <td>2.183459</td>\n",
              "      <td>2.184797</td>\n",
              "      <td>2.297478</td>\n",
              "      <td>0.490719</td>\n",
              "      <td>normal</td>\n",
              "    </tr>\n",
              "    <tr>\n",
              "      <th>9</th>\n",
              "      <td>-1.037317</td>\n",
              "      <td>1.530766</td>\n",
              "      <td>-1.279739</td>\n",
              "      <td>1.475792</td>\n",
              "      <td>0.069725</td>\n",
              "      <td>0.250102</td>\n",
              "      <td>2.466528</td>\n",
              "      <td>2.206775</td>\n",
              "      <td>2.421799</td>\n",
              "      <td>0.648999</td>\n",
              "      <td>normal</td>\n",
              "    </tr>\n",
              "    <tr>\n",
              "      <th>10</th>\n",
              "      <td>-0.794424</td>\n",
              "      <td>1.274155</td>\n",
              "      <td>-1.160143</td>\n",
              "      <td>1.212259</td>\n",
              "      <td>-0.220961</td>\n",
              "      <td>-0.054087</td>\n",
              "      <td>2.648229</td>\n",
              "      <td>2.299914</td>\n",
              "      <td>2.504429</td>\n",
              "      <td>0.701750</td>\n",
              "      <td>normal</td>\n",
              "    </tr>\n",
              "    <tr>\n",
              "      <th>11</th>\n",
              "      <td>1.148843</td>\n",
              "      <td>-0.719721</td>\n",
              "      <td>0.688399</td>\n",
              "      <td>-0.898663</td>\n",
              "      <td>-0.807965</td>\n",
              "      <td>-1.145706</td>\n",
              "      <td>-0.615943</td>\n",
              "      <td>-0.872715</td>\n",
              "      <td>-0.675750</td>\n",
              "      <td>0.004567</td>\n",
              "      <td>normal</td>\n",
              "    </tr>\n",
              "    <tr>\n",
              "      <th>12</th>\n",
              "      <td>1.286406</td>\n",
              "      <td>-1.107160</td>\n",
              "      <td>1.449524</td>\n",
              "      <td>-1.078200</td>\n",
              "      <td>-0.588761</td>\n",
              "      <td>-0.852779</td>\n",
              "      <td>-0.589421</td>\n",
              "      <td>-0.911110</td>\n",
              "      <td>-0.663366</td>\n",
              "      <td>0.725047</td>\n",
              "      <td>normal</td>\n",
              "    </tr>\n",
              "    <tr>\n",
              "      <th>13</th>\n",
              "      <td>1.228328</td>\n",
              "      <td>-0.860147</td>\n",
              "      <td>0.937976</td>\n",
              "      <td>-0.985781</td>\n",
              "      <td>-0.602523</td>\n",
              "      <td>-0.925172</td>\n",
              "      <td>-0.563044</td>\n",
              "      <td>-0.938181</td>\n",
              "      <td>-0.649638</td>\n",
              "      <td>1.659688</td>\n",
              "      <td>normal</td>\n",
              "    </tr>\n",
              "    <tr>\n",
              "      <th>14</th>\n",
              "      <td>1.250736</td>\n",
              "      <td>-1.058244</td>\n",
              "      <td>1.333278</td>\n",
              "      <td>-1.071220</td>\n",
              "      <td>-0.508548</td>\n",
              "      <td>-0.869291</td>\n",
              "      <td>-0.554385</td>\n",
              "      <td>-0.943698</td>\n",
              "      <td>-0.644853</td>\n",
              "      <td>1.967524</td>\n",
              "      <td>normal</td>\n",
              "    </tr>\n",
              "    <tr>\n",
              "      <th>15</th>\n",
              "      <td>1.177842</td>\n",
              "      <td>-1.083763</td>\n",
              "      <td>1.375489</td>\n",
              "      <td>-1.089313</td>\n",
              "      <td>-0.322712</td>\n",
              "      <td>-0.822170</td>\n",
              "      <td>-0.558336</td>\n",
              "      <td>-0.940328</td>\n",
              "      <td>-0.647780</td>\n",
              "      <td>1.799468</td>\n",
              "      <td>normal</td>\n",
              "    </tr>\n",
              "    <tr>\n",
              "      <th>16</th>\n",
              "      <td>1.113474</td>\n",
              "      <td>-1.135686</td>\n",
              "      <td>1.481684</td>\n",
              "      <td>-1.125966</td>\n",
              "      <td>-0.589776</td>\n",
              "      <td>-0.885556</td>\n",
              "      <td>-0.578508</td>\n",
              "      <td>-0.923800</td>\n",
              "      <td>-0.660423</td>\n",
              "      <td>1.091483</td>\n",
              "      <td>normal</td>\n",
              "    </tr>\n",
              "    <tr>\n",
              "      <th>17</th>\n",
              "      <td>1.026952</td>\n",
              "      <td>-1.216457</td>\n",
              "      <td>1.661915</td>\n",
              "      <td>-1.165798</td>\n",
              "      <td>-0.856841</td>\n",
              "      <td>-1.012327</td>\n",
              "      <td>-0.604313</td>\n",
              "      <td>-0.881946</td>\n",
              "      <td>-0.672672</td>\n",
              "      <td>0.208710</td>\n",
              "      <td>normal</td>\n",
              "    </tr>\n",
              "    <tr>\n",
              "      <th>18</th>\n",
              "      <td>0.903204</td>\n",
              "      <td>-1.206489</td>\n",
              "      <td>1.611330</td>\n",
              "      <td>-1.132816</td>\n",
              "      <td>-0.656542</td>\n",
              "      <td>-0.796960</td>\n",
              "      <td>-0.631219</td>\n",
              "      <td>-0.842913</td>\n",
              "      <td>-0.685964</td>\n",
              "      <td>-0.321816</td>\n",
              "      <td>normal</td>\n",
              "    </tr>\n",
              "    <tr>\n",
              "      <th>19</th>\n",
              "      <td>0.855213</td>\n",
              "      <td>-1.151440</td>\n",
              "      <td>1.467614</td>\n",
              "      <td>-1.087456</td>\n",
              "      <td>-0.697211</td>\n",
              "      <td>-0.724079</td>\n",
              "      <td>-0.651759</td>\n",
              "      <td>-0.775488</td>\n",
              "      <td>-0.689257</td>\n",
              "      <td>-0.700445</td>\n",
              "      <td>normal</td>\n",
              "    </tr>\n",
              "    <tr>\n",
              "      <th>20</th>\n",
              "      <td>-4.815471</td>\n",
              "      <td>3.169228</td>\n",
              "      <td>-1.942708</td>\n",
              "      <td>3.792003</td>\n",
              "      <td>2.037249</td>\n",
              "      <td>3.446847</td>\n",
              "      <td>2.077598</td>\n",
              "      <td>1.485955</td>\n",
              "      <td>1.924606</td>\n",
              "      <td>0.895140</td>\n",
              "      <td>normal</td>\n",
              "    </tr>\n",
              "    <tr>\n",
              "      <th>21</th>\n",
              "      <td>0.206491</td>\n",
              "      <td>-0.990072</td>\n",
              "      <td>0.998611</td>\n",
              "      <td>-0.969421</td>\n",
              "      <td>-1.483695</td>\n",
              "      <td>-0.942096</td>\n",
              "      <td>-0.438524</td>\n",
              "      <td>0.781950</td>\n",
              "      <td>-0.225100</td>\n",
              "      <td>-0.960161</td>\n",
              "      <td>mild fatigue</td>\n",
              "    </tr>\n",
              "    <tr>\n",
              "      <th>22</th>\n",
              "      <td>0.058239</td>\n",
              "      <td>-0.946906</td>\n",
              "      <td>0.890070</td>\n",
              "      <td>-0.718604</td>\n",
              "      <td>-1.644520</td>\n",
              "      <td>-1.069603</td>\n",
              "      <td>-0.475650</td>\n",
              "      <td>0.438323</td>\n",
              "      <td>-0.314815</td>\n",
              "      <td>-0.936503</td>\n",
              "      <td>mild fatigue</td>\n",
              "    </tr>\n",
              "    <tr>\n",
              "      <th>23</th>\n",
              "      <td>0.009006</td>\n",
              "      <td>-1.100089</td>\n",
              "      <td>1.185877</td>\n",
              "      <td>-0.978171</td>\n",
              "      <td>-1.825965</td>\n",
              "      <td>-1.348270</td>\n",
              "      <td>-0.524945</td>\n",
              "      <td>0.042560</td>\n",
              "      <td>-0.424855</td>\n",
              "      <td>-0.902543</td>\n",
              "      <td>mild fatigue</td>\n",
              "    </tr>\n",
              "    <tr>\n",
              "      <th>24</th>\n",
              "      <td>0.049155</td>\n",
              "      <td>-1.030192</td>\n",
              "      <td>1.048526</td>\n",
              "      <td>-0.911430</td>\n",
              "      <td>-1.369605</td>\n",
              "      <td>-1.009792</td>\n",
              "      <td>-0.576368</td>\n",
              "      <td>-0.330251</td>\n",
              "      <td>-0.535893</td>\n",
              "      <td>-0.850003</td>\n",
              "      <td>mild fatigue</td>\n",
              "    </tr>\n",
              "    <tr>\n",
              "      <th>25</th>\n",
              "      <td>0.074389</td>\n",
              "      <td>-0.820757</td>\n",
              "      <td>0.673324</td>\n",
              "      <td>-0.754531</td>\n",
              "      <td>-1.253187</td>\n",
              "      <td>-1.037423</td>\n",
              "      <td>-0.619618</td>\n",
              "      <td>-0.603517</td>\n",
              "      <td>-0.622925</td>\n",
              "      <td>-0.780243</td>\n",
              "      <td>mild fatigue</td>\n",
              "    </tr>\n",
              "    <tr>\n",
              "      <th>26</th>\n",
              "      <td>0.545818</td>\n",
              "      <td>0.071140</td>\n",
              "      <td>-0.310577</td>\n",
              "      <td>0.250172</td>\n",
              "      <td>-0.967213</td>\n",
              "      <td>-0.723278</td>\n",
              "      <td>-0.604765</td>\n",
              "      <td>-0.792822</td>\n",
              "      <td>-0.650804</td>\n",
              "      <td>-0.305931</td>\n",
              "      <td>mild fatigue</td>\n",
              "    </tr>\n",
              "    <tr>\n",
              "      <th>27</th>\n",
              "      <td>0.573389</td>\n",
              "      <td>-0.258255</td>\n",
              "      <td>0.006000</td>\n",
              "      <td>-0.168508</td>\n",
              "      <td>-1.065677</td>\n",
              "      <td>-0.821131</td>\n",
              "      <td>-0.626782</td>\n",
              "      <td>-0.849025</td>\n",
              "      <td>-0.678644</td>\n",
              "      <td>-0.250083</td>\n",
              "      <td>mild fatigue</td>\n",
              "    </tr>\n",
              "    <tr>\n",
              "      <th>28</th>\n",
              "      <td>0.760930</td>\n",
              "      <td>-0.534193</td>\n",
              "      <td>0.360097</td>\n",
              "      <td>-0.495638</td>\n",
              "      <td>-1.207282</td>\n",
              "      <td>-0.907973</td>\n",
              "      <td>-0.636322</td>\n",
              "      <td>-0.853019</td>\n",
              "      <td>-0.686891</td>\n",
              "      <td>-0.323673</td>\n",
              "      <td>mild fatigue</td>\n",
              "    </tr>\n",
              "    <tr>\n",
              "      <th>29</th>\n",
              "      <td>0.922987</td>\n",
              "      <td>-0.981887</td>\n",
              "      <td>1.113517</td>\n",
              "      <td>-0.798538</td>\n",
              "      <td>-1.136768</td>\n",
              "      <td>-0.968345</td>\n",
              "      <td>-0.643151</td>\n",
              "      <td>-0.842306</td>\n",
              "      <td>-0.689873</td>\n",
              "      <td>-0.436372</td>\n",
              "      <td>mild fatigue</td>\n",
              "    </tr>\n",
              "    <tr>\n",
              "      <th>30</th>\n",
              "      <td>0.780397</td>\n",
              "      <td>-1.029930</td>\n",
              "      <td>1.184537</td>\n",
              "      <td>-0.795974</td>\n",
              "      <td>-1.157454</td>\n",
              "      <td>-0.872722</td>\n",
              "      <td>-0.653327</td>\n",
              "      <td>-0.849487</td>\n",
              "      <td>-0.699197</td>\n",
              "      <td>-0.505302</td>\n",
              "      <td>mild fatigue</td>\n",
              "    </tr>\n",
              "    <tr>\n",
              "      <th>31</th>\n",
              "      <td>-0.016503</td>\n",
              "      <td>-0.042010</td>\n",
              "      <td>-0.281097</td>\n",
              "      <td>0.285439</td>\n",
              "      <td>1.517428</td>\n",
              "      <td>1.499905</td>\n",
              "      <td>-0.587867</td>\n",
              "      <td>-0.060414</td>\n",
              "      <td>-0.469396</td>\n",
              "      <td>-0.988285</td>\n",
              "      <td>mild fatigue</td>\n",
              "    </tr>\n",
              "    <tr>\n",
              "      <th>32</th>\n",
              "      <td>0.011806</td>\n",
              "      <td>-0.157031</td>\n",
              "      <td>-0.170882</td>\n",
              "      <td>-0.008434</td>\n",
              "      <td>1.459456</td>\n",
              "      <td>1.568702</td>\n",
              "      <td>-0.561065</td>\n",
              "      <td>0.039541</td>\n",
              "      <td>-0.424090</td>\n",
              "      <td>-0.966371</td>\n",
              "      <td>mild fatigue</td>\n",
              "    </tr>\n",
              "    <tr>\n",
              "      <th>33</th>\n",
              "      <td>0.024935</td>\n",
              "      <td>-0.320765</td>\n",
              "      <td>-0.001705</td>\n",
              "      <td>-0.297950</td>\n",
              "      <td>1.575401</td>\n",
              "      <td>1.706295</td>\n",
              "      <td>-0.546635</td>\n",
              "      <td>0.017265</td>\n",
              "      <td>-0.417727</td>\n",
              "      <td>-0.933500</td>\n",
              "      <td>mild fatigue</td>\n",
              "    </tr>\n",
              "    <tr>\n",
              "      <th>34</th>\n",
              "      <td>-0.494521</td>\n",
              "      <td>1.052322</td>\n",
              "      <td>-1.036527</td>\n",
              "      <td>0.828789</td>\n",
              "      <td>1.103161</td>\n",
              "      <td>0.518448</td>\n",
              "      <td>-0.184507</td>\n",
              "      <td>0.520057</td>\n",
              "      <td>-0.066258</td>\n",
              "      <td>-0.591154</td>\n",
              "      <td>fatigue</td>\n",
              "    </tr>\n",
              "    <tr>\n",
              "      <th>35</th>\n",
              "      <td>-0.194906</td>\n",
              "      <td>0.623037</td>\n",
              "      <td>-0.782931</td>\n",
              "      <td>0.380232</td>\n",
              "      <td>0.991291</td>\n",
              "      <td>0.230349</td>\n",
              "      <td>-0.012870</td>\n",
              "      <td>0.581153</td>\n",
              "      <td>0.095637</td>\n",
              "      <td>-0.410778</td>\n",
              "      <td>fatigue</td>\n",
              "    </tr>\n",
              "    <tr>\n",
              "      <th>36</th>\n",
              "      <td>-0.161344</td>\n",
              "      <td>0.485440</td>\n",
              "      <td>-0.695160</td>\n",
              "      <td>0.173274</td>\n",
              "      <td>0.671126</td>\n",
              "      <td>0.145852</td>\n",
              "      <td>0.280495</td>\n",
              "      <td>0.610790</td>\n",
              "      <td>0.335480</td>\n",
              "      <td>-0.080446</td>\n",
              "      <td>fatigue</td>\n",
              "    </tr>\n",
              "    <tr>\n",
              "      <th>37</th>\n",
              "      <td>-0.321190</td>\n",
              "      <td>0.644349</td>\n",
              "      <td>-0.808056</td>\n",
              "      <td>0.412188</td>\n",
              "      <td>1.095899</td>\n",
              "      <td>0.258070</td>\n",
              "      <td>0.586457</td>\n",
              "      <td>0.569372</td>\n",
              "      <td>0.547364</td>\n",
              "      <td>0.319852</td>\n",
              "      <td>fatigue</td>\n",
              "    </tr>\n",
              "    <tr>\n",
              "      <th>38</th>\n",
              "      <td>-0.296832</td>\n",
              "      <td>0.587548</td>\n",
              "      <td>-0.772211</td>\n",
              "      <td>0.245213</td>\n",
              "      <td>0.897568</td>\n",
              "      <td>0.213940</td>\n",
              "      <td>1.013979</td>\n",
              "      <td>0.313196</td>\n",
              "      <td>0.823530</td>\n",
              "      <td>1.232850</td>\n",
              "      <td>fatigue</td>\n",
              "    </tr>\n",
              "    <tr>\n",
              "      <th>39</th>\n",
              "      <td>-0.317642</td>\n",
              "      <td>0.657800</td>\n",
              "      <td>-0.815761</td>\n",
              "      <td>0.425131</td>\n",
              "      <td>1.003172</td>\n",
              "      <td>0.241997</td>\n",
              "      <td>1.385776</td>\n",
              "      <td>0.110496</td>\n",
              "      <td>1.054766</td>\n",
              "      <td>2.297088</td>\n",
              "      <td>fatigue</td>\n",
              "    </tr>\n",
              "    <tr>\n",
              "      <th>40</th>\n",
              "      <td>-0.341213</td>\n",
              "      <td>0.665698</td>\n",
              "      <td>-0.822461</td>\n",
              "      <td>0.398205</td>\n",
              "      <td>1.172618</td>\n",
              "      <td>0.270541</td>\n",
              "      <td>1.627990</td>\n",
              "      <td>-0.010268</td>\n",
              "      <td>1.201947</td>\n",
              "      <td>3.167089</td>\n",
              "      <td>fatigue</td>\n",
              "    </tr>\n",
              "    <tr>\n",
              "      <th>41</th>\n",
              "      <td>-0.086806</td>\n",
              "      <td>0.013108</td>\n",
              "      <td>-0.337713</td>\n",
              "      <td>-0.082968</td>\n",
              "      <td>0.912195</td>\n",
              "      <td>1.021082</td>\n",
              "      <td>-0.683715</td>\n",
              "      <td>-0.697674</td>\n",
              "      <td>-0.695165</td>\n",
              "      <td>-1.003688</td>\n",
              "      <td>fatigue</td>\n",
              "    </tr>\n",
              "    <tr>\n",
              "      <th>42</th>\n",
              "      <td>-0.097060</td>\n",
              "      <td>-0.014519</td>\n",
              "      <td>-0.315268</td>\n",
              "      <td>-0.171897</td>\n",
              "      <td>0.741060</td>\n",
              "      <td>1.021082</td>\n",
              "      <td>-0.628472</td>\n",
              "      <td>-0.575975</td>\n",
              "      <td>-0.626035</td>\n",
              "      <td>-0.845353</td>\n",
              "      <td>fatigue</td>\n",
              "    </tr>\n",
              "    <tr>\n",
              "      <th>43</th>\n",
              "      <td>-0.171188</td>\n",
              "      <td>0.169647</td>\n",
              "      <td>-0.475064</td>\n",
              "      <td>0.108548</td>\n",
              "      <td>0.896093</td>\n",
              "      <td>1.190321</td>\n",
              "      <td>-0.488950</td>\n",
              "      <td>-0.450662</td>\n",
              "      <td>-0.492003</td>\n",
              "      <td>-0.479880</td>\n",
              "      <td>fatigue</td>\n",
              "    </tr>\n",
              "    <tr>\n",
              "      <th>44</th>\n",
              "      <td>-0.026092</td>\n",
              "      <td>-0.020955</td>\n",
              "      <td>-0.300862</td>\n",
              "      <td>-0.149727</td>\n",
              "      <td>1.068609</td>\n",
              "      <td>1.190321</td>\n",
              "      <td>-0.207835</td>\n",
              "      <td>-0.122930</td>\n",
              "      <td>-0.201869</td>\n",
              "      <td>-0.167222</td>\n",
              "      <td>fatigue</td>\n",
              "    </tr>\n",
              "  </tbody>\n",
              "</table>\n",
              "</div>"
            ],
            "text/plain": [
              "           0         1         2  ...         8         9         class\n",
              "1  -0.073838  0.058313 -0.374228  ... -0.734454 -0.932118        normal\n",
              "2  -0.269013  0.296082 -0.579584  ... -0.707237 -0.867278        normal\n",
              "3  -0.345475  0.459775 -0.698175  ... -0.593212 -0.714905        normal\n",
              "4  -0.410441  0.614979 -0.800351  ... -0.382010 -0.649347        normal\n",
              "5  -0.353776  0.538325 -0.748425  ... -0.032750 -0.577919        normal\n",
              "6  -1.260512  1.782713 -1.383590  ...  2.022443  0.006419        normal\n",
              "7  -0.996974  1.532838 -1.277394  ...  2.131426  0.264928        normal\n",
              "8  -1.126002  1.559409 -1.297159  ...  2.297478  0.490719        normal\n",
              "9  -1.037317  1.530766 -1.279739  ...  2.421799  0.648999        normal\n",
              "10 -0.794424  1.274155 -1.160143  ...  2.504429  0.701750        normal\n",
              "11  1.148843 -0.719721  0.688399  ... -0.675750  0.004567        normal\n",
              "12  1.286406 -1.107160  1.449524  ... -0.663366  0.725047        normal\n",
              "13  1.228328 -0.860147  0.937976  ... -0.649638  1.659688        normal\n",
              "14  1.250736 -1.058244  1.333278  ... -0.644853  1.967524        normal\n",
              "15  1.177842 -1.083763  1.375489  ... -0.647780  1.799468        normal\n",
              "16  1.113474 -1.135686  1.481684  ... -0.660423  1.091483        normal\n",
              "17  1.026952 -1.216457  1.661915  ... -0.672672  0.208710        normal\n",
              "18  0.903204 -1.206489  1.611330  ... -0.685964 -0.321816        normal\n",
              "19  0.855213 -1.151440  1.467614  ... -0.689257 -0.700445        normal\n",
              "20 -4.815471  3.169228 -1.942708  ...  1.924606  0.895140        normal\n",
              "21  0.206491 -0.990072  0.998611  ... -0.225100 -0.960161  mild fatigue\n",
              "22  0.058239 -0.946906  0.890070  ... -0.314815 -0.936503  mild fatigue\n",
              "23  0.009006 -1.100089  1.185877  ... -0.424855 -0.902543  mild fatigue\n",
              "24  0.049155 -1.030192  1.048526  ... -0.535893 -0.850003  mild fatigue\n",
              "25  0.074389 -0.820757  0.673324  ... -0.622925 -0.780243  mild fatigue\n",
              "26  0.545818  0.071140 -0.310577  ... -0.650804 -0.305931  mild fatigue\n",
              "27  0.573389 -0.258255  0.006000  ... -0.678644 -0.250083  mild fatigue\n",
              "28  0.760930 -0.534193  0.360097  ... -0.686891 -0.323673  mild fatigue\n",
              "29  0.922987 -0.981887  1.113517  ... -0.689873 -0.436372  mild fatigue\n",
              "30  0.780397 -1.029930  1.184537  ... -0.699197 -0.505302  mild fatigue\n",
              "31 -0.016503 -0.042010 -0.281097  ... -0.469396 -0.988285  mild fatigue\n",
              "32  0.011806 -0.157031 -0.170882  ... -0.424090 -0.966371  mild fatigue\n",
              "33  0.024935 -0.320765 -0.001705  ... -0.417727 -0.933500  mild fatigue\n",
              "34 -0.494521  1.052322 -1.036527  ... -0.066258 -0.591154       fatigue\n",
              "35 -0.194906  0.623037 -0.782931  ...  0.095637 -0.410778       fatigue\n",
              "36 -0.161344  0.485440 -0.695160  ...  0.335480 -0.080446       fatigue\n",
              "37 -0.321190  0.644349 -0.808056  ...  0.547364  0.319852       fatigue\n",
              "38 -0.296832  0.587548 -0.772211  ...  0.823530  1.232850       fatigue\n",
              "39 -0.317642  0.657800 -0.815761  ...  1.054766  2.297088       fatigue\n",
              "40 -0.341213  0.665698 -0.822461  ...  1.201947  3.167089       fatigue\n",
              "41 -0.086806  0.013108 -0.337713  ... -0.695165 -1.003688       fatigue\n",
              "42 -0.097060 -0.014519 -0.315268  ... -0.626035 -0.845353       fatigue\n",
              "43 -0.171188  0.169647 -0.475064  ... -0.492003 -0.479880       fatigue\n",
              "44 -0.026092 -0.020955 -0.300862  ... -0.201869 -0.167222       fatigue\n",
              "\n",
              "[44 rows x 11 columns]"
            ]
          },
          "metadata": {},
          "execution_count": 126
        }
      ]
    },
    {
      "cell_type": "code",
      "metadata": {
        "colab": {
          "base_uri": "https://localhost:8080/",
          "height": 443
        },
        "id": "HKcaPlKmNt7j",
        "outputId": "1391c05b-6e0a-464a-8c13-2c8f4597cc44"
      },
      "source": [
        "new_df = pd.concat(scaled_df)\n",
        "new_df"
      ],
      "execution_count": 127,
      "outputs": [
        {
          "output_type": "execute_result",
          "data": {
            "text/html": [
              "<div>\n",
              "<style scoped>\n",
              "    .dataframe tbody tr th:only-of-type {\n",
              "        vertical-align: middle;\n",
              "    }\n",
              "\n",
              "    .dataframe tbody tr th {\n",
              "        vertical-align: top;\n",
              "    }\n",
              "\n",
              "    .dataframe thead th {\n",
              "        text-align: right;\n",
              "    }\n",
              "</style>\n",
              "<table border=\"1\" class=\"dataframe\">\n",
              "  <thead>\n",
              "    <tr style=\"text-align: right;\">\n",
              "      <th></th>\n",
              "      <th></th>\n",
              "      <th>0</th>\n",
              "      <th>1</th>\n",
              "      <th>2</th>\n",
              "      <th>3</th>\n",
              "      <th>4</th>\n",
              "      <th>5</th>\n",
              "      <th>6</th>\n",
              "      <th>7</th>\n",
              "      <th>8</th>\n",
              "      <th>9</th>\n",
              "      <th>class</th>\n",
              "    </tr>\n",
              "  </thead>\n",
              "  <tbody>\n",
              "    <tr>\n",
              "      <th rowspan=\"5\" valign=\"top\">scaled_abarna</th>\n",
              "      <th>1</th>\n",
              "      <td>1.138877</td>\n",
              "      <td>0.477659</td>\n",
              "      <td>-0.448928</td>\n",
              "      <td>-0.302891</td>\n",
              "      <td>-0.939466</td>\n",
              "      <td>-1.368815</td>\n",
              "      <td>0.453543</td>\n",
              "      <td>0.250961</td>\n",
              "      <td>0.392913</td>\n",
              "      <td>0.428888</td>\n",
              "      <td>normal</td>\n",
              "    </tr>\n",
              "    <tr>\n",
              "      <th>2</th>\n",
              "      <td>0.775471</td>\n",
              "      <td>1.130361</td>\n",
              "      <td>-1.017978</td>\n",
              "      <td>0.781743</td>\n",
              "      <td>-0.636726</td>\n",
              "      <td>-0.690049</td>\n",
              "      <td>0.257903</td>\n",
              "      <td>0.502543</td>\n",
              "      <td>0.347069</td>\n",
              "      <td>-0.143569</td>\n",
              "      <td>normal</td>\n",
              "    </tr>\n",
              "    <tr>\n",
              "      <th>3</th>\n",
              "      <td>0.754425</td>\n",
              "      <td>1.151302</td>\n",
              "      <td>-1.035578</td>\n",
              "      <td>0.811438</td>\n",
              "      <td>-0.049264</td>\n",
              "      <td>-0.423508</td>\n",
              "      <td>0.033130</td>\n",
              "      <td>0.676116</td>\n",
              "      <td>0.270903</td>\n",
              "      <td>-0.568641</td>\n",
              "      <td>normal</td>\n",
              "    </tr>\n",
              "    <tr>\n",
              "      <th>4</th>\n",
              "      <td>0.932362</td>\n",
              "      <td>1.176980</td>\n",
              "      <td>-1.031178</td>\n",
              "      <td>0.985187</td>\n",
              "      <td>-0.632068</td>\n",
              "      <td>-0.338963</td>\n",
              "      <td>-0.100657</td>\n",
              "      <td>0.833824</td>\n",
              "      <td>0.257570</td>\n",
              "      <td>-0.805255</td>\n",
              "      <td>normal</td>\n",
              "    </tr>\n",
              "    <tr>\n",
              "      <th>5</th>\n",
              "      <td>1.227884</td>\n",
              "      <td>0.844070</td>\n",
              "      <td>-0.742253</td>\n",
              "      <td>0.724206</td>\n",
              "      <td>-0.798291</td>\n",
              "      <td>-0.547549</td>\n",
              "      <td>-0.188238</td>\n",
              "      <td>0.837452</td>\n",
              "      <td>0.232609</td>\n",
              "      <td>-0.914004</td>\n",
              "      <td>normal</td>\n",
              "    </tr>\n",
              "    <tr>\n",
              "      <th>...</th>\n",
              "      <th>...</th>\n",
              "      <td>...</td>\n",
              "      <td>...</td>\n",
              "      <td>...</td>\n",
              "      <td>...</td>\n",
              "      <td>...</td>\n",
              "      <td>...</td>\n",
              "      <td>...</td>\n",
              "      <td>...</td>\n",
              "      <td>...</td>\n",
              "      <td>...</td>\n",
              "      <td>...</td>\n",
              "    </tr>\n",
              "    <tr>\n",
              "      <th rowspan=\"5\" valign=\"top\">scaled_yakub</th>\n",
              "      <th>47</th>\n",
              "      <td>0.818408</td>\n",
              "      <td>-1.356047</td>\n",
              "      <td>2.154705</td>\n",
              "      <td>-1.293709</td>\n",
              "      <td>-0.826408</td>\n",
              "      <td>-1.117921</td>\n",
              "      <td>-0.418485</td>\n",
              "      <td>-0.845048</td>\n",
              "      <td>-0.476085</td>\n",
              "      <td>-0.028823</td>\n",
              "      <td>normal</td>\n",
              "    </tr>\n",
              "    <tr>\n",
              "      <th>48</th>\n",
              "      <td>0.871025</td>\n",
              "      <td>-1.302458</td>\n",
              "      <td>1.914589</td>\n",
              "      <td>-1.325627</td>\n",
              "      <td>-1.078246</td>\n",
              "      <td>-1.117921</td>\n",
              "      <td>-0.406769</td>\n",
              "      <td>-0.790544</td>\n",
              "      <td>-0.459362</td>\n",
              "      <td>-0.189385</td>\n",
              "      <td>normal</td>\n",
              "    </tr>\n",
              "    <tr>\n",
              "      <th>49</th>\n",
              "      <td>0.800480</td>\n",
              "      <td>-1.418599</td>\n",
              "      <td>2.480267</td>\n",
              "      <td>-1.372760</td>\n",
              "      <td>-1.074265</td>\n",
              "      <td>-1.226405</td>\n",
              "      <td>-0.393071</td>\n",
              "      <td>-0.730027</td>\n",
              "      <td>-0.440194</td>\n",
              "      <td>-0.224757</td>\n",
              "      <td>normal</td>\n",
              "    </tr>\n",
              "    <tr>\n",
              "      <th>50</th>\n",
              "      <td>0.343258</td>\n",
              "      <td>-1.166950</td>\n",
              "      <td>1.373129</td>\n",
              "      <td>-1.328973</td>\n",
              "      <td>-0.947848</td>\n",
              "      <td>-1.226405</td>\n",
              "      <td>-0.379036</td>\n",
              "      <td>-0.618542</td>\n",
              "      <td>-0.415207</td>\n",
              "      <td>-0.406380</td>\n",
              "      <td>normal</td>\n",
              "    </tr>\n",
              "    <tr>\n",
              "      <th>51</th>\n",
              "      <td>0.767493</td>\n",
              "      <td>-1.378369</td>\n",
              "      <td>2.261398</td>\n",
              "      <td>-1.357836</td>\n",
              "      <td>-1.011056</td>\n",
              "      <td>-1.226405</td>\n",
              "      <td>-0.372173</td>\n",
              "      <td>-0.572133</td>\n",
              "      <td>-0.404150</td>\n",
              "      <td>-0.432420</td>\n",
              "      <td>normal</td>\n",
              "    </tr>\n",
              "  </tbody>\n",
              "</table>\n",
              "<p>2051 rows × 11 columns</p>\n",
              "</div>"
            ],
            "text/plain": [
              "                          0         1         2  ...         8         9   class\n",
              "scaled_abarna  1   1.138877  0.477659 -0.448928  ...  0.392913  0.428888  normal\n",
              "               2   0.775471  1.130361 -1.017978  ...  0.347069 -0.143569  normal\n",
              "               3   0.754425  1.151302 -1.035578  ...  0.270903 -0.568641  normal\n",
              "               4   0.932362  1.176980 -1.031178  ...  0.257570 -0.805255  normal\n",
              "               5   1.227884  0.844070 -0.742253  ...  0.232609 -0.914004  normal\n",
              "...                     ...       ...       ...  ...       ...       ...     ...\n",
              "scaled_yakub   47  0.818408 -1.356047  2.154705  ... -0.476085 -0.028823  normal\n",
              "               48  0.871025 -1.302458  1.914589  ... -0.459362 -0.189385  normal\n",
              "               49  0.800480 -1.418599  2.480267  ... -0.440194 -0.224757  normal\n",
              "               50  0.343258 -1.166950  1.373129  ... -0.415207 -0.406380  normal\n",
              "               51  0.767493 -1.378369  2.261398  ... -0.404150 -0.432420  normal\n",
              "\n",
              "[2051 rows x 11 columns]"
            ]
          },
          "metadata": {},
          "execution_count": 127
        }
      ]
    },
    {
      "cell_type": "code",
      "metadata": {
        "id": "LAmoCndqPEP6"
      },
      "source": [
        "new_df[\"class\"].replace(\"mild fatigue\", \"fatigue\", inplace= True)"
      ],
      "execution_count": 128,
      "outputs": []
    },
    {
      "cell_type": "code",
      "metadata": {
        "colab": {
          "base_uri": "https://localhost:8080/",
          "height": 443
        },
        "id": "UTDY5wgBTsge",
        "outputId": "d2fdbc8d-fe79-414b-e8ef-4697fdecf050"
      },
      "source": [
        "new_df[\"class\"].replace(\"normal\", 0, inplace= True)\n",
        "new_df[\"class\"].replace(\"fatigue\", 1, inplace= True)\n",
        "new_df"
      ],
      "execution_count": 129,
      "outputs": [
        {
          "output_type": "execute_result",
          "data": {
            "text/html": [
              "<div>\n",
              "<style scoped>\n",
              "    .dataframe tbody tr th:only-of-type {\n",
              "        vertical-align: middle;\n",
              "    }\n",
              "\n",
              "    .dataframe tbody tr th {\n",
              "        vertical-align: top;\n",
              "    }\n",
              "\n",
              "    .dataframe thead th {\n",
              "        text-align: right;\n",
              "    }\n",
              "</style>\n",
              "<table border=\"1\" class=\"dataframe\">\n",
              "  <thead>\n",
              "    <tr style=\"text-align: right;\">\n",
              "      <th></th>\n",
              "      <th></th>\n",
              "      <th>0</th>\n",
              "      <th>1</th>\n",
              "      <th>2</th>\n",
              "      <th>3</th>\n",
              "      <th>4</th>\n",
              "      <th>5</th>\n",
              "      <th>6</th>\n",
              "      <th>7</th>\n",
              "      <th>8</th>\n",
              "      <th>9</th>\n",
              "      <th>class</th>\n",
              "    </tr>\n",
              "  </thead>\n",
              "  <tbody>\n",
              "    <tr>\n",
              "      <th rowspan=\"5\" valign=\"top\">scaled_abarna</th>\n",
              "      <th>1</th>\n",
              "      <td>1.138877</td>\n",
              "      <td>0.477659</td>\n",
              "      <td>-0.448928</td>\n",
              "      <td>-0.302891</td>\n",
              "      <td>-0.939466</td>\n",
              "      <td>-1.368815</td>\n",
              "      <td>0.453543</td>\n",
              "      <td>0.250961</td>\n",
              "      <td>0.392913</td>\n",
              "      <td>0.428888</td>\n",
              "      <td>0</td>\n",
              "    </tr>\n",
              "    <tr>\n",
              "      <th>2</th>\n",
              "      <td>0.775471</td>\n",
              "      <td>1.130361</td>\n",
              "      <td>-1.017978</td>\n",
              "      <td>0.781743</td>\n",
              "      <td>-0.636726</td>\n",
              "      <td>-0.690049</td>\n",
              "      <td>0.257903</td>\n",
              "      <td>0.502543</td>\n",
              "      <td>0.347069</td>\n",
              "      <td>-0.143569</td>\n",
              "      <td>0</td>\n",
              "    </tr>\n",
              "    <tr>\n",
              "      <th>3</th>\n",
              "      <td>0.754425</td>\n",
              "      <td>1.151302</td>\n",
              "      <td>-1.035578</td>\n",
              "      <td>0.811438</td>\n",
              "      <td>-0.049264</td>\n",
              "      <td>-0.423508</td>\n",
              "      <td>0.033130</td>\n",
              "      <td>0.676116</td>\n",
              "      <td>0.270903</td>\n",
              "      <td>-0.568641</td>\n",
              "      <td>0</td>\n",
              "    </tr>\n",
              "    <tr>\n",
              "      <th>4</th>\n",
              "      <td>0.932362</td>\n",
              "      <td>1.176980</td>\n",
              "      <td>-1.031178</td>\n",
              "      <td>0.985187</td>\n",
              "      <td>-0.632068</td>\n",
              "      <td>-0.338963</td>\n",
              "      <td>-0.100657</td>\n",
              "      <td>0.833824</td>\n",
              "      <td>0.257570</td>\n",
              "      <td>-0.805255</td>\n",
              "      <td>0</td>\n",
              "    </tr>\n",
              "    <tr>\n",
              "      <th>5</th>\n",
              "      <td>1.227884</td>\n",
              "      <td>0.844070</td>\n",
              "      <td>-0.742253</td>\n",
              "      <td>0.724206</td>\n",
              "      <td>-0.798291</td>\n",
              "      <td>-0.547549</td>\n",
              "      <td>-0.188238</td>\n",
              "      <td>0.837452</td>\n",
              "      <td>0.232609</td>\n",
              "      <td>-0.914004</td>\n",
              "      <td>0</td>\n",
              "    </tr>\n",
              "    <tr>\n",
              "      <th>...</th>\n",
              "      <th>...</th>\n",
              "      <td>...</td>\n",
              "      <td>...</td>\n",
              "      <td>...</td>\n",
              "      <td>...</td>\n",
              "      <td>...</td>\n",
              "      <td>...</td>\n",
              "      <td>...</td>\n",
              "      <td>...</td>\n",
              "      <td>...</td>\n",
              "      <td>...</td>\n",
              "      <td>...</td>\n",
              "    </tr>\n",
              "    <tr>\n",
              "      <th rowspan=\"5\" valign=\"top\">scaled_yakub</th>\n",
              "      <th>47</th>\n",
              "      <td>0.818408</td>\n",
              "      <td>-1.356047</td>\n",
              "      <td>2.154705</td>\n",
              "      <td>-1.293709</td>\n",
              "      <td>-0.826408</td>\n",
              "      <td>-1.117921</td>\n",
              "      <td>-0.418485</td>\n",
              "      <td>-0.845048</td>\n",
              "      <td>-0.476085</td>\n",
              "      <td>-0.028823</td>\n",
              "      <td>0</td>\n",
              "    </tr>\n",
              "    <tr>\n",
              "      <th>48</th>\n",
              "      <td>0.871025</td>\n",
              "      <td>-1.302458</td>\n",
              "      <td>1.914589</td>\n",
              "      <td>-1.325627</td>\n",
              "      <td>-1.078246</td>\n",
              "      <td>-1.117921</td>\n",
              "      <td>-0.406769</td>\n",
              "      <td>-0.790544</td>\n",
              "      <td>-0.459362</td>\n",
              "      <td>-0.189385</td>\n",
              "      <td>0</td>\n",
              "    </tr>\n",
              "    <tr>\n",
              "      <th>49</th>\n",
              "      <td>0.800480</td>\n",
              "      <td>-1.418599</td>\n",
              "      <td>2.480267</td>\n",
              "      <td>-1.372760</td>\n",
              "      <td>-1.074265</td>\n",
              "      <td>-1.226405</td>\n",
              "      <td>-0.393071</td>\n",
              "      <td>-0.730027</td>\n",
              "      <td>-0.440194</td>\n",
              "      <td>-0.224757</td>\n",
              "      <td>0</td>\n",
              "    </tr>\n",
              "    <tr>\n",
              "      <th>50</th>\n",
              "      <td>0.343258</td>\n",
              "      <td>-1.166950</td>\n",
              "      <td>1.373129</td>\n",
              "      <td>-1.328973</td>\n",
              "      <td>-0.947848</td>\n",
              "      <td>-1.226405</td>\n",
              "      <td>-0.379036</td>\n",
              "      <td>-0.618542</td>\n",
              "      <td>-0.415207</td>\n",
              "      <td>-0.406380</td>\n",
              "      <td>0</td>\n",
              "    </tr>\n",
              "    <tr>\n",
              "      <th>51</th>\n",
              "      <td>0.767493</td>\n",
              "      <td>-1.378369</td>\n",
              "      <td>2.261398</td>\n",
              "      <td>-1.357836</td>\n",
              "      <td>-1.011056</td>\n",
              "      <td>-1.226405</td>\n",
              "      <td>-0.372173</td>\n",
              "      <td>-0.572133</td>\n",
              "      <td>-0.404150</td>\n",
              "      <td>-0.432420</td>\n",
              "      <td>0</td>\n",
              "    </tr>\n",
              "  </tbody>\n",
              "</table>\n",
              "<p>2051 rows × 11 columns</p>\n",
              "</div>"
            ],
            "text/plain": [
              "                          0         1         2  ...         8         9  class\n",
              "scaled_abarna  1   1.138877  0.477659 -0.448928  ...  0.392913  0.428888      0\n",
              "               2   0.775471  1.130361 -1.017978  ...  0.347069 -0.143569      0\n",
              "               3   0.754425  1.151302 -1.035578  ...  0.270903 -0.568641      0\n",
              "               4   0.932362  1.176980 -1.031178  ...  0.257570 -0.805255      0\n",
              "               5   1.227884  0.844070 -0.742253  ...  0.232609 -0.914004      0\n",
              "...                     ...       ...       ...  ...       ...       ...    ...\n",
              "scaled_yakub   47  0.818408 -1.356047  2.154705  ... -0.476085 -0.028823      0\n",
              "               48  0.871025 -1.302458  1.914589  ... -0.459362 -0.189385      0\n",
              "               49  0.800480 -1.418599  2.480267  ... -0.440194 -0.224757      0\n",
              "               50  0.343258 -1.166950  1.373129  ... -0.415207 -0.406380      0\n",
              "               51  0.767493 -1.378369  2.261398  ... -0.404150 -0.432420      0\n",
              "\n",
              "[2051 rows x 11 columns]"
            ]
          },
          "metadata": {},
          "execution_count": 129
        }
      ]
    },
    {
      "cell_type": "code",
      "metadata": {
        "id": "Z0we1CUNS2xi"
      },
      "source": [
        "new_df.to_csv('approach3combined.csv', index=False)"
      ],
      "execution_count": 130,
      "outputs": []
    },
    {
      "cell_type": "code",
      "metadata": {
        "colab": {
          "base_uri": "https://localhost:8080/"
        },
        "id": "k9DtpscONt4T",
        "outputId": "2447baaf-53c2-4fd1-f995-d62d4a04c7b3"
      },
      "source": [
        "y=new_df.iloc[:,-1].values\n",
        "y\n",
        "y.size\n",
        "# for name in range(len(names)):\n",
        "#   y=df[names[name]].iloc[:,-1].values\n",
        "\n",
        "\n",
        "# y = dataset.iloc[:, -1].values"
      ],
      "execution_count": 131,
      "outputs": [
        {
          "output_type": "execute_result",
          "data": {
            "text/plain": [
              "2051"
            ]
          },
          "metadata": {},
          "execution_count": 131
        }
      ]
    },
    {
      "cell_type": "code",
      "metadata": {
        "colab": {
          "base_uri": "https://localhost:8080/"
        },
        "id": "995eNjApNt1J",
        "outputId": "bebf326b-5d97-48d9-a8c7-1bbb6b196df3"
      },
      "source": [
        "X = new_df.iloc[:, :-1].values\n",
        "X\n"
      ],
      "execution_count": 132,
      "outputs": [
        {
          "output_type": "execute_result",
          "data": {
            "text/plain": [
              "array([[ 1.13887741,  0.47765944, -0.44892807, ...,  0.25096109,\n",
              "         0.3929125 ,  0.42888798],\n",
              "       [ 0.77547068,  1.13036091, -1.01797831, ...,  0.50254327,\n",
              "         0.34706945, -0.14356864],\n",
              "       [ 0.75442497,  1.15130246, -1.03557781, ...,  0.67611636,\n",
              "         0.27090301, -0.56864056],\n",
              "       ...,\n",
              "       [ 0.8004803 , -1.41859894,  2.48026711, ..., -0.73002711,\n",
              "        -0.44019401, -0.22475703],\n",
              "       [ 0.34325766, -1.16694964,  1.37312892, ..., -0.61854201,\n",
              "        -0.41520656, -0.40638003],\n",
              "       [ 0.76749276, -1.37836919,  2.26139828, ..., -0.57213313,\n",
              "        -0.40415037, -0.43242029]])"
            ]
          },
          "metadata": {},
          "execution_count": 132
        }
      ]
    },
    {
      "cell_type": "code",
      "metadata": {
        "colab": {
          "base_uri": "https://localhost:8080/"
        },
        "id": "VWmog2blNtxf",
        "outputId": "0713c93b-fb01-4db6-e9f2-d2ab173cb38c"
      },
      "source": [
        "y[1:100]"
      ],
      "execution_count": 133,
      "outputs": [
        {
          "output_type": "execute_result",
          "data": {
            "text/plain": [
              "array([0, 0, 0, 0, 0, 0, 0, 0, 1, 1, 1, 1, 1, 1, 1, 1, 1, 1, 1, 1, 1, 1,\n",
              "       1, 1, 1, 0, 0, 0, 0, 0, 0, 0, 0, 0, 0, 0, 0, 0, 0, 0, 0, 0, 0, 0,\n",
              "       0, 0, 0, 0, 0, 0, 0, 0, 0, 0, 0, 0, 0, 0, 0, 0, 0, 0, 1, 1, 1, 1,\n",
              "       1, 1, 1, 1, 1, 1, 1, 1, 1, 1, 1, 1, 1, 1, 1, 1, 1, 1, 1, 1, 1, 1,\n",
              "       1, 1, 1, 1, 1, 1, 1, 1, 1, 1, 1])"
            ]
          },
          "metadata": {},
          "execution_count": 133
        }
      ]
    },
    {
      "cell_type": "code",
      "metadata": {
        "colab": {
          "base_uri": "https://localhost:8080/"
        },
        "id": "UQ3C8sZhNtt1",
        "outputId": "c6c9826b-5b11-4a79-cf55-3e9527269751"
      },
      "source": [
        "X.shape, y.shape"
      ],
      "execution_count": 134,
      "outputs": [
        {
          "output_type": "execute_result",
          "data": {
            "text/plain": [
              "((2051, 10), (2051,))"
            ]
          },
          "metadata": {},
          "execution_count": 134
        }
      ]
    },
    {
      "cell_type": "markdown",
      "metadata": {
        "id": "Ug0f6_fHRDLK"
      },
      "source": [
        "Oversampling"
      ]
    },
    {
      "cell_type": "code",
      "metadata": {
        "colab": {
          "base_uri": "https://localhost:8080/"
        },
        "id": "H9-uU5eYRLh2",
        "outputId": "efa75846-792f-4b65-ec94-dc4e2de28bcf"
      },
      "source": [
        "# Implementing Oversampling for Handling Imbalanced \n",
        "smk = SMOTETomek(random_state=42)\n",
        "X_res,y_res=smk.fit_sample(X,y)"
      ],
      "execution_count": 135,
      "outputs": [
        {
          "output_type": "stream",
          "text": [
            "/usr/local/lib/python3.7/dist-packages/sklearn/utils/deprecation.py:87: FutureWarning: Function safe_indexing is deprecated; safe_indexing is deprecated in version 0.22 and will be removed in version 0.24.\n",
            "  warnings.warn(msg, category=FutureWarning)\n",
            "/usr/local/lib/python3.7/dist-packages/sklearn/utils/deprecation.py:87: FutureWarning: Function safe_indexing is deprecated; safe_indexing is deprecated in version 0.22 and will be removed in version 0.24.\n",
            "  warnings.warn(msg, category=FutureWarning)\n"
          ],
          "name": "stderr"
        }
      ]
    },
    {
      "cell_type": "code",
      "metadata": {
        "colab": {
          "base_uri": "https://localhost:8080/"
        },
        "id": "OtXZryeGRPhP",
        "outputId": "950a9e9d-4243-4e2a-9724-2c0cf3f75eec"
      },
      "source": [
        "X_res.shape,y_res.shape"
      ],
      "execution_count": 136,
      "outputs": [
        {
          "output_type": "execute_result",
          "data": {
            "text/plain": [
              "((2316, 10), (2316,))"
            ]
          },
          "metadata": {},
          "execution_count": 136
        }
      ]
    },
    {
      "cell_type": "code",
      "metadata": {
        "id": "I_w1ejyFRZ9n"
      },
      "source": [
        "#ML BEGINS"
      ],
      "execution_count": 137,
      "outputs": []
    },
    {
      "cell_type": "code",
      "metadata": {
        "id": "jIPeJ250RkLV"
      },
      "source": [
        ""
      ],
      "execution_count": 137,
      "outputs": []
    },
    {
      "cell_type": "code",
      "metadata": {
        "id": "5JqjfqCdRnof",
        "colab": {
          "base_uri": "https://localhost:8080/"
        },
        "outputId": "ec89d624-a4bb-448c-d002-c8d1201710f5"
      },
      "source": [
        "\n",
        "X_train, X_test, y_train, y_test = train_test_split(X_res, y_res, test_size = 0.30)\n",
        "y_train"
      ],
      "execution_count": 138,
      "outputs": [
        {
          "output_type": "execute_result",
          "data": {
            "text/plain": [
              "array([0, 0, 0, ..., 1, 1, 0])"
            ]
          },
          "metadata": {},
          "execution_count": 138
        }
      ]
    },
    {
      "cell_type": "code",
      "metadata": {
        "id": "KoR3oHP3Rnmn",
        "colab": {
          "base_uri": "https://localhost:8080/"
        },
        "outputId": "76b27d1e-ab13-4977-fc9a-b001769ee84d"
      },
      "source": [
        "\n",
        "classifierSVM = SVC(kernel = 'rbf', random_state = 0, probability=True)\n",
        "classifierSVM.fit(X_train, y_train)"
      ],
      "execution_count": 139,
      "outputs": [
        {
          "output_type": "execute_result",
          "data": {
            "text/plain": [
              "SVC(C=1.0, break_ties=False, cache_size=200, class_weight=None, coef0=0.0,\n",
              "    decision_function_shape='ovr', degree=3, gamma='scale', kernel='rbf',\n",
              "    max_iter=-1, probability=True, random_state=0, shrinking=True, tol=0.001,\n",
              "    verbose=False)"
            ]
          },
          "metadata": {},
          "execution_count": 139
        }
      ]
    },
    {
      "cell_type": "code",
      "metadata": {
        "id": "XsEgwHOURnjV",
        "colab": {
          "base_uri": "https://localhost:8080/"
        },
        "outputId": "91be0316-eebe-4a9e-aacd-15b48defe63c"
      },
      "source": [
        "y_pred = classifierSVM.predict(X_test)\n",
        "\n",
        "print(np.concatenate((y_pred.reshape(len(y_pred),1), y_test.reshape(len(y_test),1)),1))"
      ],
      "execution_count": 140,
      "outputs": [
        {
          "output_type": "stream",
          "text": [
            "[[0 0]\n",
            " [1 1]\n",
            " [1 0]\n",
            " ...\n",
            " [0 0]\n",
            " [1 1]\n",
            " [0 1]]\n"
          ],
          "name": "stdout"
        }
      ]
    },
    {
      "cell_type": "code",
      "metadata": {
        "id": "3nTklNlqRnfe",
        "colab": {
          "base_uri": "https://localhost:8080/"
        },
        "outputId": "83e798f7-a60e-4dca-bec6-c5bd8b148f56"
      },
      "source": [
        "\n",
        "cm = confusion_matrix(y_test, y_pred)\n",
        "print(cm)\n",
        "accuracy_score(y_test, y_pred)"
      ],
      "execution_count": 141,
      "outputs": [
        {
          "output_type": "stream",
          "text": [
            "[[218 135]\n",
            " [111 231]]\n"
          ],
          "name": "stdout"
        },
        {
          "output_type": "execute_result",
          "data": {
            "text/plain": [
              "0.6460431654676259"
            ]
          },
          "metadata": {},
          "execution_count": 141
        }
      ]
    },
    {
      "cell_type": "code",
      "metadata": {
        "id": "ymqL9d1_Rnc1",
        "colab": {
          "base_uri": "https://localhost:8080/",
          "height": 279
        },
        "outputId": "229e3ce4-9184-4960-e311-58ea437c1539"
      },
      "source": [
        "plot_confusion_matrix(classifierSVM, X_test, y_test, values_format='')  \n",
        "plt.show() "
      ],
      "execution_count": 142,
      "outputs": [
        {
          "output_type": "display_data",
          "data": {
            "image/png": "[encoded data removed]",
            "text/plain": [
              "<Figure size 432x288 with 2 Axes>"
            ]
          },
          "metadata": {
            "needs_background": "light"
          }
        }
      ]
    },
    {
      "cell_type": "code",
      "metadata": {
        "id": "gqnaccLbRnZ8",
        "colab": {
          "base_uri": "https://localhost:8080/"
        },
        "outputId": "7927cf1a-8672-42d6-be34-020250d4b384"
      },
      "source": [
        "print(classification_report(y_test, y_pred,))"
      ],
      "execution_count": 143,
      "outputs": [
        {
          "output_type": "stream",
          "text": [
            "              precision    recall  f1-score   support\n",
            "\n",
            "           0       0.66      0.62      0.64       353\n",
            "           1       0.63      0.68      0.65       342\n",
            "\n",
            "    accuracy                           0.65       695\n",
            "   macro avg       0.65      0.65      0.65       695\n",
            "weighted avg       0.65      0.65      0.65       695\n",
            "\n"
          ],
          "name": "stdout"
        }
      ]
    },
    {
      "cell_type": "code",
      "metadata": {
        "colab": {
          "base_uri": "https://localhost:8080/"
        },
        "id": "c-M8mDMTRnH9",
        "outputId": "bce3cbcb-6b79-4110-a73f-a9eebe52c354"
      },
      "source": [
        "#Stratified Cross Validation\n",
        "skfold=StratifiedKFold(n_splits=20)\n",
        "classifier = SVC(kernel = 'rbf')\n",
        "scores=cross_val_score(classifier,X_res,y_res,cv=skfold)\n",
        "print(np.mean(scores)*100)"
      ],
      "execution_count": 151,
      "outputs": [
        {
          "output_type": "stream",
          "text": [
            "58.952023988006\n"
          ],
          "name": "stdout"
        }
      ]
    },
    {
      "cell_type": "code",
      "metadata": {
        "colab": {
          "base_uri": "https://localhost:8080/"
        },
        "id": "nrBQOgGWSGWo",
        "outputId": "c16590cb-8fe4-4b1b-92b3-ce82e85aa896"
      },
      "source": [
        "scores"
      ],
      "execution_count": 152,
      "outputs": [
        {
          "output_type": "execute_result",
          "data": {
            "text/plain": [
              "array([0.44827586, 0.59482759, 0.6637931 , 0.5       , 0.50862069,\n",
              "       0.54310345, 0.72413793, 0.5       , 0.52586207, 0.50862069,\n",
              "       0.5862069 , 0.40517241, 0.51724138, 0.69827586, 0.59482759,\n",
              "       0.78448276, 0.7826087 , 0.55652174, 0.79130435, 0.55652174])"
            ]
          },
          "metadata": {},
          "execution_count": 152
        }
      ]
    },
    {
      "cell_type": "code",
      "metadata": {
        "colab": {
          "base_uri": "https://localhost:8080/"
        },
        "id": "EOVtuAFnUICo",
        "outputId": "ab52901e-5456-4159-9eef-6311124cf3c1"
      },
      "source": [
        "max(scores)*100, min(scores)*100"
      ],
      "execution_count": 153,
      "outputs": [
        {
          "output_type": "execute_result",
          "data": {
            "text/plain": [
              "(79.13043478260869, 40.51724137931034)"
            ]
          },
          "metadata": {},
          "execution_count": 153
        }
      ]
    },
    {
      "cell_type": "code",
      "metadata": {
        "id": "5VB1j4k6UH_f"
      },
      "source": [
        ""
      ],
      "execution_count": 153,
      "outputs": []
    },
    {
      "cell_type": "code",
      "metadata": {
        "id": "SFyFDBo4UH8N"
      },
      "source": [
        "def knn_find_k(X_train, y_train, X_test, y_test, name):\n",
        "    error_rates = []\n",
        "\n",
        "    for a in range(1, 40):\n",
        "        k = a\n",
        "        knn = KNeighborsClassifier(n_neighbors=k)\n",
        "        knn.fit(X_train, y_train)\n",
        "        preds = knn.predict(X_test)\n",
        "        error_rates.append(np.mean(np.asarray(y_test, dtype=np.float64, order ='C') - preds))\n",
        "\n",
        "    plt.figure(figsize=(10, 7))\n",
        "    plt.plot(range(1,40),error_rates,color='blue', linestyle='dashed', marker='o', markerfacecolor='red', markersize=10)\n",
        "    plt.title(name+'- Error Rate vs. K Value')\n",
        "    plt.xlabel('K')\n",
        "    plt.ylabel('Error Rate')\n",
        "    plt.savefig(name+'- ErrorRate_vs_KValue.png')"
      ],
      "execution_count": 154,
      "outputs": []
    },
    {
      "cell_type": "code",
      "metadata": {
        "id": "EAOih94JUHoF"
      },
      "source": [
        "def knn_accuracy(X_train, y_train, X_test, y_test, name):\n",
        "    acc = []\n",
        "    # Will take some time\n",
        "\n",
        "    for i in range(1,40):\n",
        "        neigh = KNeighborsClassifier(n_neighbors = i).fit(X_train,y_train)\n",
        "        yhat = neigh.predict(X_test)\n",
        "        acc.append(accuracy_score(y_test, yhat))\n",
        "\n",
        "    plt.figure(figsize=(10,6))\n",
        "    plt.plot(range(1,40),acc,color = 'blue',linestyle='dashed', \n",
        "             marker='o',markerfacecolor='red', markersize=10)\n",
        "    plt.title(name+'- accuracy vs. KValue')\n",
        "    plt.xlabel('K')\n",
        "    plt.ylabel('Accuracy')\n",
        "    plt.savefig(name+'- accuracy vs. KValue.png')"
      ],
      "execution_count": 155,
      "outputs": []
    },
    {
      "cell_type": "code",
      "metadata": {
        "colab": {
          "base_uri": "https://localhost:8080/",
          "height": 458
        },
        "id": "H_fV8DcWUtQs",
        "outputId": "1d97f11e-1b9a-4485-b333-cd3c9ae58dae"
      },
      "source": [
        "knn_find_k(X_train, y_train, X_test, y_test, 'combined')"
      ],
      "execution_count": 156,
      "outputs": [
        {
          "output_type": "display_data",
          "data": {
            "image/png": "[encoded data removed]",
            "text/plain": [
              "<Figure size 720x504 with 1 Axes>"
            ]
          },
          "metadata": {
            "needs_background": "light"
          }
        }
      ]
    },
    {
      "cell_type": "code",
      "metadata": {
        "colab": {
          "base_uri": "https://localhost:8080/",
          "height": 404
        },
        "id": "q28qy2l0U7So",
        "outputId": "70033b70-71db-4c7c-bf82-3481952c3a78"
      },
      "source": [
        "knn_accuracy(X_train, y_train, X_test, y_test, 'combined')"
      ],
      "execution_count": 157,
      "outputs": [
        {
          "output_type": "display_data",
          "data": {
            "image/png": "[encoded data removed]",
            "text/plain": [
              "<Figure size 720x432 with 1 Axes>"
            ]
          },
          "metadata": {
            "needs_background": "light"
          }
        }
      ]
    },
    {
      "cell_type": "code",
      "metadata": {
        "colab": {
          "base_uri": "https://localhost:8080/",
          "height": 487
        },
        "id": "_oi5BMPrTLXf",
        "outputId": "1b4581b3-0e59-4ed2-c1ef-28faa19c6f09"
      },
      "source": [
        "knn = KNeighborsClassifier(n_neighbors=7)    # change n_neighbours according to the graph\n",
        "knn.fit(X_train, y_train)\n",
        "preds = knn.predict(X_test)\n",
        "\n",
        "# from sklearn.metrics import confusion_matrix, classification_report, plot_confusion_matrix, multilabel_confusion_matrix\n",
        "cf_matrix = confusion_matrix(y_test, preds)\n",
        "print(cf_matrix)\n",
        "print(classification_report(y_test, preds))\n",
        "\n",
        "plot_confusion_matrix(knn, X_test, y_test, values_format = '')"
      ],
      "execution_count": 158,
      "outputs": [
        {
          "output_type": "stream",
          "text": [
            "[[235 118]\n",
            " [ 84 258]]\n",
            "              precision    recall  f1-score   support\n",
            "\n",
            "           0       0.74      0.67      0.70       353\n",
            "           1       0.69      0.75      0.72       342\n",
            "\n",
            "    accuracy                           0.71       695\n",
            "   macro avg       0.71      0.71      0.71       695\n",
            "weighted avg       0.71      0.71      0.71       695\n",
            "\n"
          ],
          "name": "stdout"
        },
        {
          "output_type": "execute_result",
          "data": {
            "text/plain": [
              "<sklearn.metrics._plot.confusion_matrix.ConfusionMatrixDisplay at 0x7f58aa7dc510>"
            ]
          },
          "metadata": {},
          "execution_count": 158
        },
        {
          "output_type": "display_data",
          "data": {
            "image/png": "[encoded data removed]",
            "text/plain": [
              "<Figure size 432x288 with 2 Axes>"
            ]
          },
          "metadata": {
            "needs_background": "light"
          }
        }
      ]
    },
    {
      "cell_type": "code",
      "metadata": {
        "id": "RB5wObPSTSoz"
      },
      "source": [
        "\n",
        "def ensemble_model(X_train,X_test, Y_train, Y_test, sampling_technique):\n",
        "    MLA = [XGBClassifier(n_estimators=200)]\n",
        "    MLA_columns = []\n",
        "    MLA_compare = pd.DataFrame(columns = MLA_columns)\n",
        "    row_index = 0\n",
        "    for alg in MLA:\n",
        "        # MLA_name = alg._class.name_ + sampling_technique\n",
        "        MLA_name=sampling_technique\n",
        "        print(MLA_name)\n",
        "        predicted = alg.fit(X_train, Y_train).predict(X_test)        \n",
        "        MLA_compare.loc[row_index,'Model Name'] = MLA_name\n",
        "        MLA_compare.loc[row_index, 'Train Accuracy'] = alg.score(X_train, Y_train)\n",
        "        MLA_compare.loc[row_index, 'Test Accuracy'] = alg.score(X_test, Y_test)\n",
        "        MLA_compare.loc[row_index, 'Precision'] = precision_score(Y_test, predicted, average='micro')\n",
        "        MLA_compare.loc[row_index, 'Recall'] = recall_score(Y_test, predicted, average='micro')\n",
        "        MLA_compare.loc[row_index, 'F1 score'] = f1_score(Y_test, predicted, average='micro')\n",
        "        row_index+=1\n",
        "        print(classification_report(Y_test, predicted))\n",
        "        plot_confusion_matrix(alg, X_test, Y_test, values_format = '')\n",
        "    MLA_compare.sort_values(by = ['Test Accuracy'], ascending = False, inplace = True)    \n",
        "    return MLA_compare"
      ],
      "execution_count": 159,
      "outputs": []
    },
    {
      "cell_type": "code",
      "metadata": {
        "colab": {
          "base_uri": "https://localhost:8080/",
          "height": 516
        },
        "id": "nuxYFBbLZ33m",
        "outputId": "8a882628-d457-4a8d-fed6-f08bd0f68e39"
      },
      "source": [
        "ensemble_model(X_train,X_test, y_train, y_test, 'XGBOOST')"
      ],
      "execution_count": 160,
      "outputs": [
        {
          "output_type": "stream",
          "text": [
            "XGBOOST\n",
            "              precision    recall  f1-score   support\n",
            "\n",
            "           0       0.71      0.70      0.70       353\n",
            "           1       0.69      0.70      0.70       342\n",
            "\n",
            "    accuracy                           0.70       695\n",
            "   macro avg       0.70      0.70      0.70       695\n",
            "weighted avg       0.70      0.70      0.70       695\n",
            "\n"
          ],
          "name": "stdout"
        },
        {
          "output_type": "execute_result",
          "data": {
            "text/html": [
              "<div>\n",
              "<style scoped>\n",
              "    .dataframe tbody tr th:only-of-type {\n",
              "        vertical-align: middle;\n",
              "    }\n",
              "\n",
              "    .dataframe tbody tr th {\n",
              "        vertical-align: top;\n",
              "    }\n",
              "\n",
              "    .dataframe thead th {\n",
              "        text-align: right;\n",
              "    }\n",
              "</style>\n",
              "<table border=\"1\" class=\"dataframe\">\n",
              "  <thead>\n",
              "    <tr style=\"text-align: right;\">\n",
              "      <th></th>\n",
              "      <th>Model Name</th>\n",
              "      <th>Train Accuracy</th>\n",
              "      <th>Test Accuracy</th>\n",
              "      <th>Precision</th>\n",
              "      <th>Recall</th>\n",
              "      <th>F1 score</th>\n",
              "    </tr>\n",
              "  </thead>\n",
              "  <tbody>\n",
              "    <tr>\n",
              "      <th>0</th>\n",
              "      <td>XGBOOST</td>\n",
              "      <td>0.905614</td>\n",
              "      <td>0.699281</td>\n",
              "      <td>0.699281</td>\n",
              "      <td>0.699281</td>\n",
              "      <td>0.699281</td>\n",
              "    </tr>\n",
              "  </tbody>\n",
              "</table>\n",
              "</div>"
            ],
            "text/plain": [
              "  Model Name  Train Accuracy  Test Accuracy  Precision    Recall  F1 score\n",
              "0    XGBOOST        0.905614       0.699281   0.699281  0.699281  0.699281"
            ]
          },
          "metadata": {},
          "execution_count": 160
        },
        {
          "output_type": "display_data",
          "data": {
            "image/png": "[encoded data removed]",
            "text/plain": [
              "<Figure size 432x288 with 2 Axes>"
            ]
          },
          "metadata": {
            "needs_background": "light"
          }
        }
      ]
    },
    {
      "cell_type": "code",
      "metadata": {
        "id": "CgFGLpCiW6ml"
      },
      "source": [
        "# RF"
      ],
      "execution_count": 161,
      "outputs": []
    },
    {
      "cell_type": "code",
      "metadata": {
        "colab": {
          "base_uri": "https://localhost:8080/"
        },
        "id": "AX3uZY6nW6jq",
        "outputId": "475ef1b3-3390-46b0-ddfd-4aac02c1e568"
      },
      "source": [
        "classifierRF= RandomForestClassifier(n_estimators=150, random_state= np.random)\n",
        "classifierRF.fit(X_train, y_train)"
      ],
      "execution_count": 162,
      "outputs": [
        {
          "output_type": "execute_result",
          "data": {
            "text/plain": [
              "RandomForestClassifier(bootstrap=True, ccp_alpha=0.0, class_weight=None,\n",
              "                       criterion='gini', max_depth=None, max_features='auto',\n",
              "                       max_leaf_nodes=None, max_samples=None,\n",
              "                       min_impurity_decrease=0.0, min_impurity_split=None,\n",
              "                       min_samples_leaf=1, min_samples_split=2,\n",
              "                       min_weight_fraction_leaf=0.0, n_estimators=150,\n",
              "                       n_jobs=None, oob_score=False,\n",
              "                       random_state=<module 'numpy.random' from '/usr/local/lib/python3.7/dist-packages/numpy/random/__init__.py'>,\n",
              "                       verbose=0, warm_start=False)"
            ]
          },
          "metadata": {},
          "execution_count": 162
        }
      ]
    },
    {
      "cell_type": "code",
      "metadata": {
        "id": "SEBLDJibW6g6"
      },
      "source": [
        "y_pred = classifierRF.predict(X_test)"
      ],
      "execution_count": 163,
      "outputs": []
    },
    {
      "cell_type": "code",
      "metadata": {
        "colab": {
          "base_uri": "https://localhost:8080/"
        },
        "id": "boF0ZJbuW6d5",
        "outputId": "25c80369-1615-45f7-d072-e49a56aa58b5"
      },
      "source": [
        "cm = confusion_matrix(y_test, y_pred)\n",
        "print(cm)\n",
        "accuracy_score(y_test, y_pred)"
      ],
      "execution_count": 164,
      "outputs": [
        {
          "output_type": "stream",
          "text": [
            "[[294  59]\n",
            " [ 64 278]]\n"
          ],
          "name": "stdout"
        },
        {
          "output_type": "execute_result",
          "data": {
            "text/plain": [
              "0.823021582733813"
            ]
          },
          "metadata": {},
          "execution_count": 164
        }
      ]
    },
    {
      "cell_type": "code",
      "metadata": {
        "colab": {
          "base_uri": "https://localhost:8080/",
          "height": 279
        },
        "id": "kRUjnjLtW6ay",
        "outputId": "ba87dfd6-d7ba-4ef3-a69e-5f5e0add0aa6"
      },
      "source": [
        "plot_confusion_matrix(classifierRF, X_test, y_test, values_format='')  \n",
        "plt.show() "
      ],
      "execution_count": 165,
      "outputs": [
        {
          "output_type": "display_data",
          "data": {
            "image/png": "[encoded data removed]",
            "text/plain": [
              "<Figure size 432x288 with 2 Axes>"
            ]
          },
          "metadata": {
            "needs_background": "light"
          }
        }
      ]
    },
    {
      "cell_type": "code",
      "metadata": {
        "colab": {
          "base_uri": "https://localhost:8080/"
        },
        "id": "n98k3xQ2XxYc",
        "outputId": "0ba5d380-f1bb-41c0-fec1-853473c917e9"
      },
      "source": [
        "print(classification_report(y_test, y_pred,))"
      ],
      "execution_count": 166,
      "outputs": [
        {
          "output_type": "stream",
          "text": [
            "              precision    recall  f1-score   support\n",
            "\n",
            "           0       0.82      0.83      0.83       353\n",
            "           1       0.82      0.81      0.82       342\n",
            "\n",
            "    accuracy                           0.82       695\n",
            "   macro avg       0.82      0.82      0.82       695\n",
            "weighted avg       0.82      0.82      0.82       695\n",
            "\n"
          ],
          "name": "stdout"
        }
      ]
    },
    {
      "cell_type": "code",
      "metadata": {
        "id": "NMG9s2spero9"
      },
      "source": [
        "# cross validation"
      ],
      "execution_count": 167,
      "outputs": []
    },
    {
      "cell_type": "code",
      "metadata": {
        "colab": {
          "base_uri": "https://localhost:8080/"
        },
        "id": "Mi--qwosXxTQ",
        "outputId": "d4effb2b-6fdb-4dff-d00b-f8d3b5577fff"
      },
      "source": [
        "skf = StratifiedKFold(n_splits = 10, shuffle = True)\n",
        "lst,lst2 = [],[]\n",
        "\n",
        "for train_index,test_index in skf.split(X_res,y_res):\n",
        "    X_train_fold, X_test_fold = X_res[train_index], X_res[test_index]\n",
        "    Y_train_fold, Y_test_fold = y_res[train_index], y_res[test_index]\n",
        "    classifierRF.fit(X_train_fold, Y_train_fold)\n",
        "    lst.append(classifierRF.score(X_test_fold, Y_test_fold))\n",
        "    lst2.append(classifierRF.score(X_train_fold, Y_train_fold))\n",
        "    Y_pred2= classifierRF.predict(X_test_fold)\n",
        "    print(\"Testing accuracy\")\n",
        "    print('The confusion matrix is: \\n',confusion_matrix(Y_test_fold,Y_pred2))\n",
        "    print('\\n the accuracy score is: ', accuracy_score(Y_test_fold,Y_pred2))\n",
        "    print('\\n\\n',classification_report(Y_test_fold,Y_pred2))\n",
        "\n",
        "print('training accuracy ',lst2)\n",
        "print('List of possible accuracy: ',lst)\n",
        "print('Max: ', max(lst))\n",
        "print('Min: ', min(lst))\n",
        "print('Mean: ', np.mean(lst))"
      ],
      "execution_count": 168,
      "outputs": [
        {
          "output_type": "stream",
          "text": [
            "Testing accuracy\n",
            "The confusion matrix is: \n",
            " [[101  15]\n",
            " [ 15 101]]\n",
            "\n",
            " the accuracy score is:  0.8706896551724138\n",
            "\n",
            "\n",
            "               precision    recall  f1-score   support\n",
            "\n",
            "           0       0.87      0.87      0.87       116\n",
            "           1       0.87      0.87      0.87       116\n",
            "\n",
            "    accuracy                           0.87       232\n",
            "   macro avg       0.87      0.87      0.87       232\n",
            "weighted avg       0.87      0.87      0.87       232\n",
            "\n",
            "Testing accuracy\n",
            "The confusion matrix is: \n",
            " [[95 21]\n",
            " [21 95]]\n",
            "\n",
            " the accuracy score is:  0.8189655172413793\n",
            "\n",
            "\n",
            "               precision    recall  f1-score   support\n",
            "\n",
            "           0       0.82      0.82      0.82       116\n",
            "           1       0.82      0.82      0.82       116\n",
            "\n",
            "    accuracy                           0.82       232\n",
            "   macro avg       0.82      0.82      0.82       232\n",
            "weighted avg       0.82      0.82      0.82       232\n",
            "\n",
            "Testing accuracy\n",
            "The confusion matrix is: \n",
            " [[ 95  21]\n",
            " [ 12 104]]\n",
            "\n",
            " the accuracy score is:  0.8577586206896551\n",
            "\n",
            "\n",
            "               precision    recall  f1-score   support\n",
            "\n",
            "           0       0.89      0.82      0.85       116\n",
            "           1       0.83      0.90      0.86       116\n",
            "\n",
            "    accuracy                           0.86       232\n",
            "   macro avg       0.86      0.86      0.86       232\n",
            "weighted avg       0.86      0.86      0.86       232\n",
            "\n",
            "Testing accuracy\n",
            "The confusion matrix is: \n",
            " [[ 99  17]\n",
            " [ 11 105]]\n",
            "\n",
            " the accuracy score is:  0.8793103448275862\n",
            "\n",
            "\n",
            "               precision    recall  f1-score   support\n",
            "\n",
            "           0       0.90      0.85      0.88       116\n",
            "           1       0.86      0.91      0.88       116\n",
            "\n",
            "    accuracy                           0.88       232\n",
            "   macro avg       0.88      0.88      0.88       232\n",
            "weighted avg       0.88      0.88      0.88       232\n",
            "\n",
            "Testing accuracy\n",
            "The confusion matrix is: \n",
            " [[96 20]\n",
            " [24 92]]\n",
            "\n",
            " the accuracy score is:  0.8103448275862069\n",
            "\n",
            "\n",
            "               precision    recall  f1-score   support\n",
            "\n",
            "           0       0.80      0.83      0.81       116\n",
            "           1       0.82      0.79      0.81       116\n",
            "\n",
            "    accuracy                           0.81       232\n",
            "   macro avg       0.81      0.81      0.81       232\n",
            "weighted avg       0.81      0.81      0.81       232\n",
            "\n",
            "Testing accuracy\n",
            "The confusion matrix is: \n",
            " [[ 93  23]\n",
            " [ 13 103]]\n",
            "\n",
            " the accuracy score is:  0.8448275862068966\n",
            "\n",
            "\n",
            "               precision    recall  f1-score   support\n",
            "\n",
            "           0       0.88      0.80      0.84       116\n",
            "           1       0.82      0.89      0.85       116\n",
            "\n",
            "    accuracy                           0.84       232\n",
            "   macro avg       0.85      0.84      0.84       232\n",
            "weighted avg       0.85      0.84      0.84       232\n",
            "\n",
            "Testing accuracy\n",
            "The confusion matrix is: \n",
            " [[92 24]\n",
            " [21 94]]\n",
            "\n",
            " the accuracy score is:  0.8051948051948052\n",
            "\n",
            "\n",
            "               precision    recall  f1-score   support\n",
            "\n",
            "           0       0.81      0.79      0.80       116\n",
            "           1       0.80      0.82      0.81       115\n",
            "\n",
            "    accuracy                           0.81       231\n",
            "   macro avg       0.81      0.81      0.81       231\n",
            "weighted avg       0.81      0.81      0.81       231\n",
            "\n",
            "Testing accuracy\n",
            "The confusion matrix is: \n",
            " [[104  12]\n",
            " [ 20  95]]\n",
            "\n",
            " the accuracy score is:  0.8614718614718615\n",
            "\n",
            "\n",
            "               precision    recall  f1-score   support\n",
            "\n",
            "           0       0.84      0.90      0.87       116\n",
            "           1       0.89      0.83      0.86       115\n",
            "\n",
            "    accuracy                           0.86       231\n",
            "   macro avg       0.86      0.86      0.86       231\n",
            "weighted avg       0.86      0.86      0.86       231\n",
            "\n",
            "Testing accuracy\n",
            "The confusion matrix is: \n",
            " [[ 96  19]\n",
            " [ 12 104]]\n",
            "\n",
            " the accuracy score is:  0.8658008658008658\n",
            "\n",
            "\n",
            "               precision    recall  f1-score   support\n",
            "\n",
            "           0       0.89      0.83      0.86       115\n",
            "           1       0.85      0.90      0.87       116\n",
            "\n",
            "    accuracy                           0.87       231\n",
            "   macro avg       0.87      0.87      0.87       231\n",
            "weighted avg       0.87      0.87      0.87       231\n",
            "\n",
            "Testing accuracy\n",
            "The confusion matrix is: \n",
            " [[101  14]\n",
            " [ 16 100]]\n",
            "\n",
            " the accuracy score is:  0.8701298701298701\n",
            "\n",
            "\n",
            "               precision    recall  f1-score   support\n",
            "\n",
            "           0       0.86      0.88      0.87       115\n",
            "           1       0.88      0.86      0.87       116\n",
            "\n",
            "    accuracy                           0.87       231\n",
            "   macro avg       0.87      0.87      0.87       231\n",
            "weighted avg       0.87      0.87      0.87       231\n",
            "\n",
            "training accuracy  [1.0, 1.0, 1.0, 1.0, 1.0, 1.0, 1.0, 1.0, 1.0, 1.0]\n",
            "List of possible accuracy:  [0.8706896551724138, 0.8189655172413793, 0.8577586206896551, 0.8793103448275862, 0.8103448275862069, 0.8448275862068966, 0.8051948051948052, 0.8614718614718615, 0.8658008658008658, 0.8701298701298701]\n",
            "Max:  0.8793103448275862\n",
            "Min:  0.8051948051948052\n",
            "Mean:  0.8484493954321541\n"
          ],
          "name": "stdout"
        }
      ]
    },
    {
      "cell_type": "code",
      "metadata": {
        "id": "P9h34WQzPlvP"
      },
      "source": [
        "#NB"
      ],
      "execution_count": 169,
      "outputs": []
    },
    {
      "cell_type": "code",
      "metadata": {
        "id": "gX08suItPhOF"
      },
      "source": [
        "\n",
        "gnb = GaussianNB()"
      ],
      "execution_count": 170,
      "outputs": []
    },
    {
      "cell_type": "code",
      "metadata": {
        "colab": {
          "base_uri": "https://localhost:8080/"
        },
        "id": "JcRnD5JoPhLv",
        "outputId": "b319b57b-1138-4183-f4c3-6950511bed9c"
      },
      "source": [
        "\n",
        "\n",
        "# Create StratifiedKFold object.\n",
        "skf = StratifiedKFold(n_splits=20, shuffle=True)\n",
        "lst_accu_stratified = []\n",
        "predicted_targets = np.array([])\n",
        "actual_targets = np.array([])\n",
        "\n",
        "for train_index, test_index in skf.split(X_res, y_res):\n",
        "      \n",
        "      X_train_fold, X_test_fold = X_res[train_index], X_res[test_index]\n",
        "      y_train_fold, y_test_fold = y_res[train_index], y_res[test_index]\n",
        "      classifier = gnb.fit(X_train_fold, y_train_fold)\n",
        "      y_pred = gnb.predict(X_test_fold)\n",
        "      lst_accu_stratified.append(gnb.score(X_test_fold, y_test_fold))\n",
        "      #concatenating the confusion matrices\n",
        "      predicted_targets = np.append(predicted_targets, y_pred)\n",
        "      actual_targets = np.append(actual_targets, y_test_fold)\n",
        "      \n",
        "\n",
        "# Print the output.\n",
        "print('List of possible accuracy:', lst_accu_stratified)\n",
        "print('\\nMaximum Accuracy:',\n",
        "      max(lst_accu_stratified)*100, '%')\n",
        "print('\\nMinimum Accuracy:',\n",
        "      min(lst_accu_stratified)*100, '%')\n",
        "print('\\nOverall Accuracy:',\n",
        "      mean(lst_accu_stratified)*100, '%')"
      ],
      "execution_count": 171,
      "outputs": [
        {
          "output_type": "stream",
          "text": [
            "List of possible accuracy: [0.6120689655172413, 0.5775862068965517, 0.5258620689655172, 0.4827586206896552, 0.5862068965517241, 0.5517241379310345, 0.5862068965517241, 0.5, 0.5517241379310345, 0.47413793103448276, 0.5689655172413793, 0.46551724137931033, 0.5775862068965517, 0.5689655172413793, 0.5258620689655172, 0.5086206896551724, 0.5391304347826087, 0.591304347826087, 0.5826086956521739, 0.4608695652173913]\n",
            "\n",
            "Maximum Accuracy: 61.206896551724135 %\n",
            "\n",
            "Minimum Accuracy: 46.08695652173913 %\n",
            "\n",
            "Overall Accuracy: 54.18853073463268 %\n"
          ],
          "name": "stdout"
        }
      ]
    },
    {
      "cell_type": "code",
      "metadata": {
        "colab": {
          "base_uri": "https://localhost:8080/",
          "height": 295
        },
        "id": "8zSOhHiBPhJU",
        "outputId": "3fb378a9-064a-4af4-aced-85f6fc0fb70b"
      },
      "source": [
        "# Creating  a confusion matrix,which compares the y_test and y_pred\n",
        "cm = confusion_matrix(actual_targets, predicted_targets)\n",
        "# Creating a dataframe for a array-formatted Confusion matrix,so it will be easy for plotting.\n",
        "cm_df = pd.DataFrame(cm,index = ['NORMAL','FATIGUE'], \n",
        "                     columns = ['NORMAL','FATIGUE'])\n",
        "#Plotting the confusion matrix\n",
        "plt.figure(figsize=(5,4))\n",
        "sns.heatmap(cm_df, annot=True,fmt=\".1f\")\n",
        "plt.title('Confusion Matrix')\n",
        "plt.ylabel('Actal Values')\n",
        "plt.xlabel('Predicted Values')\n",
        "plt.show()"
      ],
      "execution_count": 172,
      "outputs": [
        {
          "output_type": "display_data",
          "data": {
            "image/png": "[encoded data removed]",
            "text/plain": [
              "<Figure size 360x288 with 2 Axes>"
            ]
          },
          "metadata": {
            "needs_background": "light"
          }
        }
      ]
    }
  ]
}